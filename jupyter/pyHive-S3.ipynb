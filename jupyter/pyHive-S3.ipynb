{
 "cells": [
  {
   "cell_type": "code",
   "execution_count": null,
   "id": "1ef983f9-cb79-4168-80b9-c43d538cad26",
   "metadata": {},
   "outputs": [],
   "source": [
    "!pip install sqlalchemy\n",
    "!pip install pyhive\n",
    "!pip install thrift\n",
    "!pip install sasl\n",
    "!pip install thrift-sasl \n",
    "!pip install psycopg2\n",
    "\n",
    "import psycopg2\n",
    "import sqlalchemy\n",
    "import pandas as pd\n",
    "from sqlalchemy.engine import create_engine"
   ]
  },
  {
   "cell_type": "code",
   "execution_count": null,
   "id": "5208d552-5353-43ed-abfc-83678f55d5b0",
   "metadata": {},
   "outputs": [],
   "source": [
    "\n",
    "engine = create_engine('hive://spark-thrift:10000/default')\n",
    "pd.read_sql_query(\"create database if not exists sample\",con=engine)\n",
    "pd.read_sql_query(\"show databases\",con=engine)\n"
   ]
  },
  {
   "cell_type": "code",
   "execution_count": null,
   "id": "95e9bfe7-b610-42a7-a76a-d7511497432d",
   "metadata": {},
   "outputs": [],
   "source": [
    "pd.read_sql_query(\"use sample\", con=engine)\n",
    "pd.read_sql_query(\"show tables\", con=engine)\n"
   ]
  },
  {
   "cell_type": "code",
   "execution_count": null,
   "id": "8476c325-441c-4f74-805a-9b66ff3d1fbe",
   "metadata": {},
   "outputs": [],
   "source": [
    "\n",
    "pd.read_sql_query(\"\"\"\n",
    "    create external table if not exists sample.tbl1 (ckey int, cval varchar(64))\n",
    "    ROW FORMAT DELIMITED \n",
    "    FIELDS TERMINATED BY ','\n",
    "    STORED AS TEXTFILE \n",
    "    LOCATION 's3a://sample/'\n",
    "\"\"\", con=engine)\n",
    "\n"
   ]
  },
  {
   "cell_type": "code",
   "execution_count": null,
   "id": "0f9368b5-6b0e-4fb7-a2df-eb1ad27bf848",
   "metadata": {},
   "outputs": [],
   "source": [
    "pd.read_sql_query(\"select * from sample.tbl1 limit 100\", con=engine)"
   ]
  },
  {
   "cell_type": "code",
   "execution_count": null,
   "id": "fb5af2ae-d3a2-4a3a-9471-ceedfde99815",
   "metadata": {},
   "outputs": [],
   "source": [
    "pd.read_sql_query(\"insert into sample.tbl1 values (1, 'a')\", con=engine)"
   ]
  },
  {
   "cell_type": "code",
   "execution_count": null,
   "id": "c19faf2f-f90c-4270-a7f8-9175993c27bb",
   "metadata": {},
   "outputs": [],
   "source": [
    "pd.read_sql_query(\"select * from sample.tbl1 limit 100\", con=engine)\n"
   ]
  },
  {
   "cell_type": "code",
   "execution_count": null,
   "id": "27d38cc8-4bec-4f04-8ffc-b7f42d7348f9",
   "metadata": {},
   "outputs": [],
   "source": []
  }
 ],
 "metadata": {
  "kernelspec": {
   "display_name": "Python 3 (ipykernel)",
   "language": "python",
   "name": "python3"
  },
  "language_info": {
   "codemirror_mode": {
    "name": "ipython",
    "version": 3
   },
   "file_extension": ".py",
   "mimetype": "text/x-python",
   "name": "python",
   "nbconvert_exporter": "python",
   "pygments_lexer": "ipython3",
   "version": "3.9.12"
  }
 },
 "nbformat": 4,
 "nbformat_minor": 5
}
