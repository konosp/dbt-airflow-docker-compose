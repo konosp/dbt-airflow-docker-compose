{
 "cells": [
  {
   "cell_type": "markdown",
   "metadata": {},
   "source": [
    "# Customers Segmentation"
   ]
  },
  {
   "cell_type": "code",
   "execution_count": 1,
   "metadata": {},
   "outputs": [
    {
     "name": "stdout",
     "output_type": "stream",
     "text": [
      "Requirement already satisfied: sqlalchemy in /opt/conda/lib/python3.10/site-packages (1.4.37)\n",
      "Requirement already satisfied: greenlet!=0.4.17 in /opt/conda/lib/python3.10/site-packages (from sqlalchemy) (1.1.2)\n"
     ]
    }
   ],
   "source": [
    "!pip install presto-python-client\n",
    "!pip install pandas plotnine\n",
    "\n",
    "import prestodb\n",
    "import numpy as np\n",
    "import pandas as pd\n",
    "pd.set_option('display.max_columns', 10)\n",
    "pd.set_option('display.max_rows', 500)\n",
    "\n",
    "import gc\n",
    "import os\n",
    "\n",
    "# matplotlib and seaborn for plotting\n",
    "import matplotlib\n",
    "matplotlib.rcParams['figure.dpi'] = 120 #resolution\n",
    "matplotlib.rcParams['figure.figsize'] = (8,6) #figure size\n",
    "\n",
    "import matplotlib.pyplot as plt\n",
    "import seaborn as sns\n",
    "sns.set_style('darkgrid')\n",
    "color = sns.color_palette()\n",
    "\n",
    "from sklearn.cluster import KMeans\n",
    "from sklearn.metrics import silhouette_score\n",
    "\n",
    "from sklearn.decomposition import PCA"
   ]
  },
  {
   "cell_type": "markdown",
   "metadata": {},
   "source": [
    "## Data"
   ]
  },
  {
   "cell_type": "markdown",
   "metadata": {},
   "source": [
    "For segmentation I am considering users from prior set only"
   ]
  },
  {
   "cell_type": "code",
   "execution_count": 2,
   "metadata": {},
   "outputs": [
    {
     "data": {
      "text/plain": [
       "(1000000, 16)"
      ]
     },
     "execution_count": 2,
     "metadata": {},
     "output_type": "execute_result"
    }
   ],
   "source": [
    "# limit the data to 1M rows for avoid OFME\n",
    "conn=prestodb.dbapi.connect(\n",
    "    host='presto-service',\n",
    "    port=8282,\n",
    "    user='presto',\n",
    "    catalog='hive',\n",
    "    schema='sample',\n",
    ")\n",
    "\n",
    "fetchlimit = 100000\n",
    "\n",
    "cur = conn.cursor()\n",
    "cur.execute('show tables')\n",
    "pd.DataFrame.from_records(cur.fetchall(), columns = [i[0] for i in cur.description])\n"
   ]
  },
  {
   "cell_type": "code",
   "execution_count": null,
   "metadata": {},
   "outputs": [],
   "source": [
    "# limit the data to 100k rows for avoid OFME\n",
    "cur.execute('select * from sample.order_products limit ' + str(fetchlimit))\n",
    "order_products = pd.DataFrame.from_records(cur.fetchall(), columns = [i[0] for i in cur.description])\n",
    "order_products.shape"
   ]
  },
  {
   "cell_type": "code",
   "execution_count": 3,
   "metadata": {},
   "outputs": [
    {
     "data": {
      "text/html": [
       "<div>\n",
       "<style scoped>\n",
       "    .dataframe tbody tr th:only-of-type {\n",
       "        vertical-align: middle;\n",
       "    }\n",
       "\n",
       "    .dataframe tbody tr th {\n",
       "        vertical-align: top;\n",
       "    }\n",
       "\n",
       "    .dataframe thead th {\n",
       "        text-align: right;\n",
       "    }\n",
       "</style>\n",
       "<table border=\"1\" class=\"dataframe\">\n",
       "  <thead>\n",
       "    <tr style=\"text-align: right;\">\n",
       "      <th></th>\n",
       "      <th>order_id</th>\n",
       "      <th>product_id</th>\n",
       "      <th>add_to_cart_order</th>\n",
       "      <th>reordered</th>\n",
       "      <th>user_id</th>\n",
       "      <th>...</th>\n",
       "      <th>product_name</th>\n",
       "      <th>aisle_id</th>\n",
       "      <th>aisle</th>\n",
       "      <th>department_id</th>\n",
       "      <th>department</th>\n",
       "    </tr>\n",
       "  </thead>\n",
       "  <tbody>\n",
       "    <tr>\n",
       "      <th>0</th>\n",
       "      <td>347</td>\n",
       "      <td>1158</td>\n",
       "      <td>14</td>\n",
       "      <td>True</td>\n",
       "      <td>17155</td>\n",
       "      <td>...</td>\n",
       "      <td>Mango Chunks</td>\n",
       "      <td>116.0</td>\n",
       "      <td>frozen produce</td>\n",
       "      <td>1.0</td>\n",
       "      <td>frozen</td>\n",
       "    </tr>\n",
       "    <tr>\n",
       "      <th>1</th>\n",
       "      <td>347</td>\n",
       "      <td>17304</td>\n",
       "      <td>12</td>\n",
       "      <td>True</td>\n",
       "      <td>17155</td>\n",
       "      <td>...</td>\n",
       "      <td>Powdered Peanut Butter</td>\n",
       "      <td>88.0</td>\n",
       "      <td>spreads</td>\n",
       "      <td>13.0</td>\n",
       "      <td>pantry</td>\n",
       "    </tr>\n",
       "    <tr>\n",
       "      <th>2</th>\n",
       "      <td>347</td>\n",
       "      <td>17948</td>\n",
       "      <td>13</td>\n",
       "      <td>True</td>\n",
       "      <td>17155</td>\n",
       "      <td>...</td>\n",
       "      <td>Frozen Organic Wild Blueberries</td>\n",
       "      <td>116.0</td>\n",
       "      <td>frozen produce</td>\n",
       "      <td>1.0</td>\n",
       "      <td>frozen</td>\n",
       "    </tr>\n",
       "    <tr>\n",
       "      <th>3</th>\n",
       "      <td>347</td>\n",
       "      <td>18689</td>\n",
       "      <td>7</td>\n",
       "      <td>True</td>\n",
       "      <td>17155</td>\n",
       "      <td>...</td>\n",
       "      <td>Dairy-Free Chive Cream Cheese</td>\n",
       "      <td>108.0</td>\n",
       "      <td>other creams cheeses</td>\n",
       "      <td>16.0</td>\n",
       "      <td>dairy eggs</td>\n",
       "    </tr>\n",
       "    <tr>\n",
       "      <th>4</th>\n",
       "      <td>347</td>\n",
       "      <td>21903</td>\n",
       "      <td>5</td>\n",
       "      <td>True</td>\n",
       "      <td>17155</td>\n",
       "      <td>...</td>\n",
       "      <td>Organic Baby Spinach</td>\n",
       "      <td>123.0</td>\n",
       "      <td>packaged vegetables fruits</td>\n",
       "      <td>4.0</td>\n",
       "      <td>produce</td>\n",
       "    </tr>\n",
       "  </tbody>\n",
       "</table>\n",
       "<p>5 rows × 16 columns</p>\n",
       "</div>"
      ],
      "text/plain": [
       "   order_id  product_id  add_to_cart_order  reordered  user_id  ...  \\\n",
       "0       347        1158                 14       True    17155  ...   \n",
       "1       347       17304                 12       True    17155  ...   \n",
       "2       347       17948                 13       True    17155  ...   \n",
       "3       347       18689                  7       True    17155  ...   \n",
       "4       347       21903                  5       True    17155  ...   \n",
       "\n",
       "                      product_name  aisle_id                       aisle  \\\n",
       "0                     Mango Chunks     116.0              frozen produce   \n",
       "1           Powdered Peanut Butter      88.0                     spreads   \n",
       "2  Frozen Organic Wild Blueberries     116.0              frozen produce   \n",
       "3    Dairy-Free Chive Cream Cheese     108.0        other creams cheeses   \n",
       "4             Organic Baby Spinach     123.0  packaged vegetables fruits   \n",
       "\n",
       "   department_id  department  \n",
       "0            1.0      frozen  \n",
       "1           13.0      pantry  \n",
       "2            1.0      frozen  \n",
       "3           16.0  dairy eggs  \n",
       "4            4.0     produce  \n",
       "\n",
       "[5 rows x 16 columns]"
      ]
     },
     "execution_count": 3,
     "metadata": {},
     "output_type": "execute_result"
    }
   ],
   "source": [
    "order_products.head()"
   ]
  },
  {
   "cell_type": "code",
   "execution_count": 4,
   "metadata": {},
   "outputs": [
    {
     "data": {
      "text/plain": [
       "67513"
      ]
     },
     "execution_count": 4,
     "metadata": {},
     "output_type": "execute_result"
    }
   ],
   "source": [
    "order_products.user_id.nunique()"
   ]
  },
  {
   "cell_type": "markdown",
   "metadata": {},
   "source": [
    "## Segmentation"
   ]
  },
  {
   "cell_type": "markdown",
   "metadata": {},
   "source": [
    "Since there are thousands of products in the dataset I will rely on aisles, which represent categories of products. Even with aisles features will be too much so I will use Principal Component Analysis to find new dimensions along which clustering will be easier."
   ]
  },
  {
   "cell_type": "code",
   "execution_count": 5,
   "metadata": {},
   "outputs": [
    {
     "data": {
      "text/html": [
       "<div>\n",
       "<style scoped>\n",
       "    .dataframe tbody tr th:only-of-type {\n",
       "        vertical-align: middle;\n",
       "    }\n",
       "\n",
       "    .dataframe tbody tr th {\n",
       "        vertical-align: top;\n",
       "    }\n",
       "\n",
       "    .dataframe thead th {\n",
       "        text-align: right;\n",
       "    }\n",
       "</style>\n",
       "<table border=\"1\" class=\"dataframe\">\n",
       "  <thead>\n",
       "    <tr style=\"text-align: right;\">\n",
       "      <th>aisle</th>\n",
       "      <th>air fresheners candles</th>\n",
       "      <th>asian foods</th>\n",
       "      <th>baby accessories</th>\n",
       "      <th>baby bath body care</th>\n",
       "      <th>baby food formula</th>\n",
       "      <th>...</th>\n",
       "      <th>trash bags liners</th>\n",
       "      <th>vitamins supplements</th>\n",
       "      <th>water seltzer sparkling water</th>\n",
       "      <th>white wines</th>\n",
       "      <th>yogurt</th>\n",
       "    </tr>\n",
       "    <tr>\n",
       "      <th>user_id</th>\n",
       "      <th></th>\n",
       "      <th></th>\n",
       "      <th></th>\n",
       "      <th></th>\n",
       "      <th></th>\n",
       "      <th></th>\n",
       "      <th></th>\n",
       "      <th></th>\n",
       "      <th></th>\n",
       "      <th></th>\n",
       "      <th></th>\n",
       "    </tr>\n",
       "  </thead>\n",
       "  <tbody>\n",
       "    <tr>\n",
       "      <th>6</th>\n",
       "      <td>0</td>\n",
       "      <td>0</td>\n",
       "      <td>0</td>\n",
       "      <td>0</td>\n",
       "      <td>0</td>\n",
       "      <td>...</td>\n",
       "      <td>0</td>\n",
       "      <td>0</td>\n",
       "      <td>0</td>\n",
       "      <td>0</td>\n",
       "      <td>0</td>\n",
       "    </tr>\n",
       "    <tr>\n",
       "      <th>11</th>\n",
       "      <td>0</td>\n",
       "      <td>0</td>\n",
       "      <td>0</td>\n",
       "      <td>0</td>\n",
       "      <td>0</td>\n",
       "      <td>...</td>\n",
       "      <td>0</td>\n",
       "      <td>0</td>\n",
       "      <td>2</td>\n",
       "      <td>0</td>\n",
       "      <td>2</td>\n",
       "    </tr>\n",
       "    <tr>\n",
       "      <th>13</th>\n",
       "      <td>0</td>\n",
       "      <td>0</td>\n",
       "      <td>0</td>\n",
       "      <td>0</td>\n",
       "      <td>0</td>\n",
       "      <td>...</td>\n",
       "      <td>0</td>\n",
       "      <td>0</td>\n",
       "      <td>0</td>\n",
       "      <td>0</td>\n",
       "      <td>0</td>\n",
       "    </tr>\n",
       "    <tr>\n",
       "      <th>14</th>\n",
       "      <td>0</td>\n",
       "      <td>0</td>\n",
       "      <td>0</td>\n",
       "      <td>0</td>\n",
       "      <td>0</td>\n",
       "      <td>...</td>\n",
       "      <td>0</td>\n",
       "      <td>0</td>\n",
       "      <td>0</td>\n",
       "      <td>0</td>\n",
       "      <td>0</td>\n",
       "    </tr>\n",
       "    <tr>\n",
       "      <th>17</th>\n",
       "      <td>0</td>\n",
       "      <td>0</td>\n",
       "      <td>0</td>\n",
       "      <td>0</td>\n",
       "      <td>0</td>\n",
       "      <td>...</td>\n",
       "      <td>0</td>\n",
       "      <td>0</td>\n",
       "      <td>1</td>\n",
       "      <td>0</td>\n",
       "      <td>0</td>\n",
       "    </tr>\n",
       "  </tbody>\n",
       "</table>\n",
       "<p>5 rows × 134 columns</p>\n",
       "</div>"
      ],
      "text/plain": [
       "aisle    air fresheners candles  asian foods  baby accessories  \\\n",
       "user_id                                                          \n",
       "6                             0            0                 0   \n",
       "11                            0            0                 0   \n",
       "13                            0            0                 0   \n",
       "14                            0            0                 0   \n",
       "17                            0            0                 0   \n",
       "\n",
       "aisle    baby bath body care  baby food formula  ...  trash bags liners  \\\n",
       "user_id                                          ...                      \n",
       "6                          0                  0  ...                  0   \n",
       "11                         0                  0  ...                  0   \n",
       "13                         0                  0  ...                  0   \n",
       "14                         0                  0  ...                  0   \n",
       "17                         0                  0  ...                  0   \n",
       "\n",
       "aisle    vitamins supplements  water seltzer sparkling water  white wines  \\\n",
       "user_id                                                                     \n",
       "6                           0                              0            0   \n",
       "11                          0                              2            0   \n",
       "13                          0                              0            0   \n",
       "14                          0                              0            0   \n",
       "17                          0                              1            0   \n",
       "\n",
       "aisle    yogurt  \n",
       "user_id          \n",
       "6             0  \n",
       "11            2  \n",
       "13            0  \n",
       "14            0  \n",
       "17            0  \n",
       "\n",
       "[5 rows x 134 columns]"
      ]
     },
     "execution_count": 5,
     "metadata": {},
     "output_type": "execute_result"
    }
   ],
   "source": [
    "cross_df = pd.crosstab(order_products.user_id, order_products.aisle)\n",
    "cross_df.head()"
   ]
  },
  {
   "cell_type": "code",
   "execution_count": 6,
   "metadata": {},
   "outputs": [
    {
     "data": {
      "text/html": [
       "<div>\n",
       "<style scoped>\n",
       "    .dataframe tbody tr th:only-of-type {\n",
       "        vertical-align: middle;\n",
       "    }\n",
       "\n",
       "    .dataframe tbody tr th {\n",
       "        vertical-align: top;\n",
       "    }\n",
       "\n",
       "    .dataframe thead th {\n",
       "        text-align: right;\n",
       "    }\n",
       "</style>\n",
       "<table border=\"1\" class=\"dataframe\">\n",
       "  <thead>\n",
       "    <tr style=\"text-align: right;\">\n",
       "      <th>aisle</th>\n",
       "      <th>air fresheners candles</th>\n",
       "      <th>asian foods</th>\n",
       "      <th>baby accessories</th>\n",
       "      <th>baby bath body care</th>\n",
       "      <th>baby food formula</th>\n",
       "      <th>...</th>\n",
       "      <th>trash bags liners</th>\n",
       "      <th>vitamins supplements</th>\n",
       "      <th>water seltzer sparkling water</th>\n",
       "      <th>white wines</th>\n",
       "      <th>yogurt</th>\n",
       "    </tr>\n",
       "    <tr>\n",
       "      <th>user_id</th>\n",
       "      <th></th>\n",
       "      <th></th>\n",
       "      <th></th>\n",
       "      <th></th>\n",
       "      <th></th>\n",
       "      <th></th>\n",
       "      <th></th>\n",
       "      <th></th>\n",
       "      <th></th>\n",
       "      <th></th>\n",
       "      <th></th>\n",
       "    </tr>\n",
       "  </thead>\n",
       "  <tbody>\n",
       "    <tr>\n",
       "      <th>206201</th>\n",
       "      <td>0</td>\n",
       "      <td>2</td>\n",
       "      <td>0</td>\n",
       "      <td>0</td>\n",
       "      <td>0</td>\n",
       "      <td>...</td>\n",
       "      <td>0</td>\n",
       "      <td>0</td>\n",
       "      <td>0</td>\n",
       "      <td>0</td>\n",
       "      <td>0</td>\n",
       "    </tr>\n",
       "    <tr>\n",
       "      <th>206206</th>\n",
       "      <td>0</td>\n",
       "      <td>0</td>\n",
       "      <td>0</td>\n",
       "      <td>0</td>\n",
       "      <td>0</td>\n",
       "      <td>...</td>\n",
       "      <td>0</td>\n",
       "      <td>0</td>\n",
       "      <td>0</td>\n",
       "      <td>0</td>\n",
       "      <td>0</td>\n",
       "    </tr>\n",
       "    <tr>\n",
       "      <th>206207</th>\n",
       "      <td>0</td>\n",
       "      <td>0</td>\n",
       "      <td>0</td>\n",
       "      <td>0</td>\n",
       "      <td>0</td>\n",
       "      <td>...</td>\n",
       "      <td>0</td>\n",
       "      <td>0</td>\n",
       "      <td>1</td>\n",
       "      <td>0</td>\n",
       "      <td>3</td>\n",
       "    </tr>\n",
       "    <tr>\n",
       "      <th>206208</th>\n",
       "      <td>0</td>\n",
       "      <td>0</td>\n",
       "      <td>0</td>\n",
       "      <td>0</td>\n",
       "      <td>0</td>\n",
       "      <td>...</td>\n",
       "      <td>0</td>\n",
       "      <td>0</td>\n",
       "      <td>0</td>\n",
       "      <td>0</td>\n",
       "      <td>0</td>\n",
       "    </tr>\n",
       "    <tr>\n",
       "      <th>206209</th>\n",
       "      <td>0</td>\n",
       "      <td>0</td>\n",
       "      <td>0</td>\n",
       "      <td>0</td>\n",
       "      <td>0</td>\n",
       "      <td>...</td>\n",
       "      <td>1</td>\n",
       "      <td>0</td>\n",
       "      <td>0</td>\n",
       "      <td>0</td>\n",
       "      <td>1</td>\n",
       "    </tr>\n",
       "  </tbody>\n",
       "</table>\n",
       "<p>5 rows × 134 columns</p>\n",
       "</div>"
      ],
      "text/plain": [
       "aisle    air fresheners candles  asian foods  baby accessories  \\\n",
       "user_id                                                          \n",
       "206201                        0            2                 0   \n",
       "206206                        0            0                 0   \n",
       "206207                        0            0                 0   \n",
       "206208                        0            0                 0   \n",
       "206209                        0            0                 0   \n",
       "\n",
       "aisle    baby bath body care  baby food formula  ...  trash bags liners  \\\n",
       "user_id                                          ...                      \n",
       "206201                     0                  0  ...                  0   \n",
       "206206                     0                  0  ...                  0   \n",
       "206207                     0                  0  ...                  0   \n",
       "206208                     0                  0  ...                  0   \n",
       "206209                     0                  0  ...                  1   \n",
       "\n",
       "aisle    vitamins supplements  water seltzer sparkling water  white wines  \\\n",
       "user_id                                                                     \n",
       "206201                      0                              0            0   \n",
       "206206                      0                              0            0   \n",
       "206207                      0                              1            0   \n",
       "206208                      0                              0            0   \n",
       "206209                      0                              0            0   \n",
       "\n",
       "aisle    yogurt  \n",
       "user_id          \n",
       "206201        0  \n",
       "206206        0  \n",
       "206207        3  \n",
       "206208        0  \n",
       "206209        1  \n",
       "\n",
       "[5 rows x 134 columns]"
      ]
     },
     "execution_count": 6,
     "metadata": {},
     "output_type": "execute_result"
    }
   ],
   "source": [
    "cross_df.tail()"
   ]
  },
  {
   "cell_type": "markdown",
   "metadata": {},
   "source": [
    "I will normalize each row"
   ]
  },
  {
   "cell_type": "code",
   "execution_count": 7,
   "metadata": {},
   "outputs": [
    {
     "data": {
      "text/html": [
       "<div>\n",
       "<style scoped>\n",
       "    .dataframe tbody tr th:only-of-type {\n",
       "        vertical-align: middle;\n",
       "    }\n",
       "\n",
       "    .dataframe tbody tr th {\n",
       "        vertical-align: top;\n",
       "    }\n",
       "\n",
       "    .dataframe thead th {\n",
       "        text-align: right;\n",
       "    }\n",
       "</style>\n",
       "<table border=\"1\" class=\"dataframe\">\n",
       "  <thead>\n",
       "    <tr style=\"text-align: right;\">\n",
       "      <th>aisle</th>\n",
       "      <th>air fresheners candles</th>\n",
       "      <th>asian foods</th>\n",
       "      <th>baby accessories</th>\n",
       "      <th>baby bath body care</th>\n",
       "      <th>baby food formula</th>\n",
       "      <th>...</th>\n",
       "      <th>trash bags liners</th>\n",
       "      <th>vitamins supplements</th>\n",
       "      <th>water seltzer sparkling water</th>\n",
       "      <th>white wines</th>\n",
       "      <th>yogurt</th>\n",
       "    </tr>\n",
       "    <tr>\n",
       "      <th>user_id</th>\n",
       "      <th></th>\n",
       "      <th></th>\n",
       "      <th></th>\n",
       "      <th></th>\n",
       "      <th></th>\n",
       "      <th></th>\n",
       "      <th></th>\n",
       "      <th></th>\n",
       "      <th></th>\n",
       "      <th></th>\n",
       "      <th></th>\n",
       "    </tr>\n",
       "  </thead>\n",
       "  <tbody>\n",
       "    <tr>\n",
       "      <th>6</th>\n",
       "      <td>0.0</td>\n",
       "      <td>0.0</td>\n",
       "      <td>0.0</td>\n",
       "      <td>0.0</td>\n",
       "      <td>0.0</td>\n",
       "      <td>...</td>\n",
       "      <td>0.0</td>\n",
       "      <td>0.0</td>\n",
       "      <td>0.000</td>\n",
       "      <td>0.0</td>\n",
       "      <td>0.000</td>\n",
       "    </tr>\n",
       "    <tr>\n",
       "      <th>11</th>\n",
       "      <td>0.0</td>\n",
       "      <td>0.0</td>\n",
       "      <td>0.0</td>\n",
       "      <td>0.0</td>\n",
       "      <td>0.0</td>\n",
       "      <td>...</td>\n",
       "      <td>0.0</td>\n",
       "      <td>0.0</td>\n",
       "      <td>0.125</td>\n",
       "      <td>0.0</td>\n",
       "      <td>0.125</td>\n",
       "    </tr>\n",
       "    <tr>\n",
       "      <th>13</th>\n",
       "      <td>0.0</td>\n",
       "      <td>0.0</td>\n",
       "      <td>0.0</td>\n",
       "      <td>0.0</td>\n",
       "      <td>0.0</td>\n",
       "      <td>...</td>\n",
       "      <td>0.0</td>\n",
       "      <td>0.0</td>\n",
       "      <td>0.000</td>\n",
       "      <td>0.0</td>\n",
       "      <td>0.000</td>\n",
       "    </tr>\n",
       "    <tr>\n",
       "      <th>14</th>\n",
       "      <td>0.0</td>\n",
       "      <td>0.0</td>\n",
       "      <td>0.0</td>\n",
       "      <td>0.0</td>\n",
       "      <td>0.0</td>\n",
       "      <td>...</td>\n",
       "      <td>0.0</td>\n",
       "      <td>0.0</td>\n",
       "      <td>0.000</td>\n",
       "      <td>0.0</td>\n",
       "      <td>0.000</td>\n",
       "    </tr>\n",
       "    <tr>\n",
       "      <th>17</th>\n",
       "      <td>0.0</td>\n",
       "      <td>0.0</td>\n",
       "      <td>0.0</td>\n",
       "      <td>0.0</td>\n",
       "      <td>0.0</td>\n",
       "      <td>...</td>\n",
       "      <td>0.0</td>\n",
       "      <td>0.0</td>\n",
       "      <td>0.100</td>\n",
       "      <td>0.0</td>\n",
       "      <td>0.000</td>\n",
       "    </tr>\n",
       "  </tbody>\n",
       "</table>\n",
       "<p>5 rows × 134 columns</p>\n",
       "</div>"
      ],
      "text/plain": [
       "aisle    air fresheners candles  asian foods  baby accessories  \\\n",
       "user_id                                                          \n",
       "6                           0.0          0.0               0.0   \n",
       "11                          0.0          0.0               0.0   \n",
       "13                          0.0          0.0               0.0   \n",
       "14                          0.0          0.0               0.0   \n",
       "17                          0.0          0.0               0.0   \n",
       "\n",
       "aisle    baby bath body care  baby food formula  ...  trash bags liners  \\\n",
       "user_id                                          ...                      \n",
       "6                        0.0                0.0  ...                0.0   \n",
       "11                       0.0                0.0  ...                0.0   \n",
       "13                       0.0                0.0  ...                0.0   \n",
       "14                       0.0                0.0  ...                0.0   \n",
       "17                       0.0                0.0  ...                0.0   \n",
       "\n",
       "aisle    vitamins supplements  water seltzer sparkling water  white wines  \\\n",
       "user_id                                                                     \n",
       "6                         0.0                          0.000          0.0   \n",
       "11                        0.0                          0.125          0.0   \n",
       "13                        0.0                          0.000          0.0   \n",
       "14                        0.0                          0.000          0.0   \n",
       "17                        0.0                          0.100          0.0   \n",
       "\n",
       "aisle    yogurt  \n",
       "user_id          \n",
       "6         0.000  \n",
       "11        0.125  \n",
       "13        0.000  \n",
       "14        0.000  \n",
       "17        0.000  \n",
       "\n",
       "[5 rows x 134 columns]"
      ]
     },
     "execution_count": 7,
     "metadata": {},
     "output_type": "execute_result"
    }
   ],
   "source": [
    "df = cross_df.div(cross_df.sum(axis=1), axis=0)\n",
    "df.head()"
   ]
  },
  {
   "cell_type": "code",
   "execution_count": 8,
   "metadata": {},
   "outputs": [
    {
     "data": {
      "text/plain": [
       "(67450, 134)"
      ]
     },
     "execution_count": 8,
     "metadata": {},
     "output_type": "execute_result"
    }
   ],
   "source": [
    "df.shape"
   ]
  },
  {
   "cell_type": "markdown",
   "metadata": {},
   "source": [
    "### PCA and K-Means Clustering\n",
    "\n",
    "Reducing this dataframe to only 10 dimensions as KMeans does not work properly in higher dimension. "
   ]
  },
  {
   "cell_type": "code",
   "execution_count": 9,
   "metadata": {},
   "outputs": [
    {
     "data": {
      "text/html": [
       "<div>\n",
       "<style scoped>\n",
       "    .dataframe tbody tr th:only-of-type {\n",
       "        vertical-align: middle;\n",
       "    }\n",
       "\n",
       "    .dataframe tbody tr th {\n",
       "        vertical-align: top;\n",
       "    }\n",
       "\n",
       "    .dataframe thead th {\n",
       "        text-align: right;\n",
       "    }\n",
       "</style>\n",
       "<table border=\"1\" class=\"dataframe\">\n",
       "  <thead>\n",
       "    <tr style=\"text-align: right;\">\n",
       "      <th></th>\n",
       "      <th>0</th>\n",
       "      <th>1</th>\n",
       "      <th>2</th>\n",
       "      <th>3</th>\n",
       "      <th>4</th>\n",
       "      <th>5</th>\n",
       "      <th>6</th>\n",
       "      <th>7</th>\n",
       "      <th>8</th>\n",
       "      <th>9</th>\n",
       "    </tr>\n",
       "  </thead>\n",
       "  <tbody>\n",
       "    <tr>\n",
       "      <th>0</th>\n",
       "      <td>0.030411</td>\n",
       "      <td>0.415897</td>\n",
       "      <td>0.034859</td>\n",
       "      <td>0.013330</td>\n",
       "      <td>-0.072967</td>\n",
       "      <td>-0.009604</td>\n",
       "      <td>-0.026588</td>\n",
       "      <td>-0.042140</td>\n",
       "      <td>-0.097826</td>\n",
       "      <td>-0.152048</td>\n",
       "    </tr>\n",
       "    <tr>\n",
       "      <th>1</th>\n",
       "      <td>-0.161392</td>\n",
       "      <td>-0.064641</td>\n",
       "      <td>0.042068</td>\n",
       "      <td>0.066948</td>\n",
       "      <td>0.038441</td>\n",
       "      <td>0.016309</td>\n",
       "      <td>-0.001333</td>\n",
       "      <td>0.115684</td>\n",
       "      <td>-0.010053</td>\n",
       "      <td>0.052400</td>\n",
       "    </tr>\n",
       "    <tr>\n",
       "      <th>2</th>\n",
       "      <td>-0.029020</td>\n",
       "      <td>0.239542</td>\n",
       "      <td>-0.012564</td>\n",
       "      <td>-0.021576</td>\n",
       "      <td>-0.010799</td>\n",
       "      <td>0.125981</td>\n",
       "      <td>0.075192</td>\n",
       "      <td>0.027011</td>\n",
       "      <td>-0.018747</td>\n",
       "      <td>-0.005874</td>\n",
       "    </tr>\n",
       "    <tr>\n",
       "      <th>3</th>\n",
       "      <td>-0.066981</td>\n",
       "      <td>0.121876</td>\n",
       "      <td>-0.023134</td>\n",
       "      <td>-0.036528</td>\n",
       "      <td>0.000484</td>\n",
       "      <td>-0.010730</td>\n",
       "      <td>-0.014718</td>\n",
       "      <td>-0.010719</td>\n",
       "      <td>-0.011873</td>\n",
       "      <td>-0.016151</td>\n",
       "    </tr>\n",
       "    <tr>\n",
       "      <th>4</th>\n",
       "      <td>-0.069224</td>\n",
       "      <td>-0.095543</td>\n",
       "      <td>0.046138</td>\n",
       "      <td>-0.031581</td>\n",
       "      <td>-0.057087</td>\n",
       "      <td>-0.016563</td>\n",
       "      <td>-0.057917</td>\n",
       "      <td>0.026028</td>\n",
       "      <td>0.058033</td>\n",
       "      <td>0.098403</td>\n",
       "    </tr>\n",
       "  </tbody>\n",
       "</table>\n",
       "</div>"
      ],
      "text/plain": [
       "          0         1         2         3         4         5         6  \\\n",
       "0  0.030411  0.415897  0.034859  0.013330 -0.072967 -0.009604 -0.026588   \n",
       "1 -0.161392 -0.064641  0.042068  0.066948  0.038441  0.016309 -0.001333   \n",
       "2 -0.029020  0.239542 -0.012564 -0.021576 -0.010799  0.125981  0.075192   \n",
       "3 -0.066981  0.121876 -0.023134 -0.036528  0.000484 -0.010730 -0.014718   \n",
       "4 -0.069224 -0.095543  0.046138 -0.031581 -0.057087 -0.016563 -0.057917   \n",
       "\n",
       "          7         8         9  \n",
       "0 -0.042140 -0.097826 -0.152048  \n",
       "1  0.115684 -0.010053  0.052400  \n",
       "2  0.027011 -0.018747 -0.005874  \n",
       "3 -0.010719 -0.011873 -0.016151  \n",
       "4  0.026028  0.058033  0.098403  "
      ]
     },
     "execution_count": 9,
     "metadata": {},
     "output_type": "execute_result"
    }
   ],
   "source": [
    "pca = PCA(n_components=10)\n",
    "df_pca = pca.fit_transform(df)\n",
    "df_pca = pd.DataFrame(df_pca)\n",
    "df_pca.head()"
   ]
  },
  {
   "cell_type": "code",
   "execution_count": 10,
   "metadata": {},
   "outputs": [],
   "source": [
    "Sum_of_squared_distances = []\n",
    "K = range(1,10)\n",
    "for k in K:\n",
    "    km = KMeans(n_clusters=k)\n",
    "    km = km.fit(df_pca)\n",
    "    Sum_of_squared_distances.append(km.inertia_)"
   ]
  },
  {
   "cell_type": "code",
   "execution_count": 11,
   "metadata": {},
   "outputs": [
    {
     "data": {
      "image/png": "[encoded data removed]",
      "text/plain": [
       "<Figure size 576x360 with 1 Axes>"
      ]
     },
     "metadata": {
      "needs_background": "light"
     },
     "output_type": "display_data"
    }
   ],
   "source": [
    "plt.subplots(figsize = (8, 5))\n",
    "plt.plot(K, Sum_of_squared_distances, 'bx-')\n",
    "plt.xlabel('k')\n",
    "plt.ylabel('Sum_of_squared_distances')\n",
    "plt.title('Elbow Method For Optimal k')\n",
    "plt.show()"
   ]
  },
  {
   "cell_type": "markdown",
   "metadata": {},
   "source": [
    "From above plot we can choose optimal K as 5"
   ]
  },
  {
   "cell_type": "code",
   "execution_count": 12,
   "metadata": {},
   "outputs": [
    {
     "name": "stdout",
     "output_type": "stream",
     "text": [
      "[[-1.09737553e-01 -3.31535183e-02 -3.45065270e-02 -2.25453412e-03\n",
      "  -2.12241917e-02 -2.65104687e-03 -2.88317197e-03 -5.65491583e-04\n",
      "  -1.69273463e-03 -1.15722115e-04]\n",
      " [ 5.96114447e-02 -3.46876524e-02 -1.31412748e-02 -1.97029919e-03\n",
      "   3.66019532e-02  4.37819408e-03 -1.59942714e-03 -2.56223127e-03\n",
      "   3.12481524e-03 -1.21900978e-03]\n",
      " [ 6.83969336e-02  2.25520183e-01  2.57723136e-02  5.87141612e-03\n",
      "  -8.75691246e-03 -1.30168910e-03  4.61329553e-03  3.21550547e-03\n",
      "  -1.10296137e-03  5.00465954e-04]\n",
      " [ 3.51472258e-01 -1.89508839e-01  2.76473165e-02 -6.39360366e-03\n",
      "  -3.10438298e-02 -5.38259054e-03  7.79987905e-03  6.70377423e-03\n",
      "  -3.49873347e-03  2.78964870e-03]\n",
      " [-2.05940327e-01 -1.22042483e-01  4.86199398e-01  3.60650366e-02\n",
      "   4.26986292e-02  1.26436199e-02  1.69088883e-02  2.38773915e-03\n",
      "   6.10782555e-03  6.56125868e-03]]\n"
     ]
    }
   ],
   "source": [
    "clusterer = KMeans(n_clusters=5,random_state=42).fit(df_pca)\n",
    "centers = clusterer.cluster_centers_\n",
    "c_preds = clusterer.predict(df_pca)\n",
    "print(centers)"
   ]
  },
  {
   "cell_type": "markdown",
   "metadata": {},
   "source": [
    "#### Visualizing clustering among first two principal components"
   ]
  },
  {
   "cell_type": "code",
   "execution_count": 31,
   "metadata": {},
   "outputs": [
    {
     "data": {
      "text/html": [
       "<div>\n",
       "<style scoped>\n",
       "    .dataframe tbody tr th:only-of-type {\n",
       "        vertical-align: middle;\n",
       "    }\n",
       "\n",
       "    .dataframe tbody tr th {\n",
       "        vertical-align: top;\n",
       "    }\n",
       "\n",
       "    .dataframe thead th {\n",
       "        text-align: right;\n",
       "    }\n",
       "</style>\n",
       "<table border=\"1\" class=\"dataframe\">\n",
       "  <thead>\n",
       "    <tr style=\"text-align: right;\">\n",
       "      <th></th>\n",
       "      <th>pc1</th>\n",
       "      <th>pc2</th>\n",
       "      <th>cluster</th>\n",
       "    </tr>\n",
       "  </thead>\n",
       "  <tbody>\n",
       "    <tr>\n",
       "      <th>0</th>\n",
       "      <td>0.030411</td>\n",
       "      <td>0.415897</td>\n",
       "      <td>2</td>\n",
       "    </tr>\n",
       "    <tr>\n",
       "      <th>1</th>\n",
       "      <td>-0.161392</td>\n",
       "      <td>-0.064641</td>\n",
       "      <td>0</td>\n",
       "    </tr>\n",
       "    <tr>\n",
       "      <th>2</th>\n",
       "      <td>-0.029020</td>\n",
       "      <td>0.239542</td>\n",
       "      <td>2</td>\n",
       "    </tr>\n",
       "    <tr>\n",
       "      <th>3</th>\n",
       "      <td>-0.066981</td>\n",
       "      <td>0.121876</td>\n",
       "      <td>0</td>\n",
       "    </tr>\n",
       "    <tr>\n",
       "      <th>4</th>\n",
       "      <td>-0.069224</td>\n",
       "      <td>-0.095543</td>\n",
       "      <td>0</td>\n",
       "    </tr>\n",
       "  </tbody>\n",
       "</table>\n",
       "</div>"
      ],
      "text/plain": [
       "        pc1       pc2  cluster\n",
       "0  0.030411  0.415897        2\n",
       "1 -0.161392 -0.064641        0\n",
       "2 -0.029020  0.239542        2\n",
       "3 -0.066981  0.121876        0\n",
       "4 -0.069224 -0.095543        0"
      ]
     },
     "execution_count": 31,
     "metadata": {},
     "output_type": "execute_result"
    }
   ],
   "source": [
    "pd.options.mode.chained_assignment = None  # default='warn'\n",
    "temp_df = df_pca.iloc[:, 0:2]\n",
    "temp_df.columns = [\"pc1\", \"pc2\"]\n",
    "temp_df['cluster'] = c_preds\n",
    "temp_df.head()"
   ]
  },
  {
   "cell_type": "code",
   "execution_count": 14,
   "metadata": {},
   "outputs": [
    {
     "data": {
      "image/png": "[encoded data removed]",
      "text/plain": [
       "<Figure size 576x360 with 1 Axes>"
      ]
     },
     "metadata": {
      "needs_background": "light"
     },
     "output_type": "display_data"
    }
   ],
   "source": [
    "fig, ax = plt.subplots(figsize = (8, 5))\n",
    "ax = sns.scatterplot(data = temp_df, x = \"pc1\", y = \"pc2\", hue = \"cluster\")\n",
    "ax.set_xlabel(\"Principal Component 1\")\n",
    "ax.set_ylabel(\"Principal Component 2\")\n",
    "ax.set_title(\"Cluster Visualization\")\n",
    "plt.show();"
   ]
  },
  {
   "cell_type": "markdown",
   "metadata": {},
   "source": [
    "### Top products per cluster"
   ]
  },
  {
   "cell_type": "code",
   "execution_count": 15,
   "metadata": {},
   "outputs": [],
   "source": [
    "cross_df['cluster'] = c_preds\n",
    "\n",
    "cluster1 = cross_df[cross_df.cluster == 0]\n",
    "cluster2 = cross_df[cross_df.cluster == 1]\n",
    "cluster3 = cross_df[cross_df.cluster == 2]\n",
    "cluster4 = cross_df[cross_df.cluster == 3]\n",
    "cluster5 = cross_df[cross_df.cluster == 4]"
   ]
  },
  {
   "cell_type": "code",
   "execution_count": 16,
   "metadata": {},
   "outputs": [
    {
     "data": {
      "text/plain": [
       "(28759, 135)"
      ]
     },
     "execution_count": 16,
     "metadata": {},
     "output_type": "execute_result"
    }
   ],
   "source": [
    "cluster1.shape"
   ]
  },
  {
   "cell_type": "code",
   "execution_count": 17,
   "metadata": {},
   "outputs": [
    {
     "data": {
      "text/plain": [
       "aisle\n",
       "yogurt                           0.598595\n",
       "fresh vegetables                 0.480302\n",
       "fresh fruits                     0.453701\n",
       "packaged cheese                  0.440106\n",
       "chips pretzels                   0.404882\n",
       "packaged vegetables fruits       0.372509\n",
       "milk                             0.366911\n",
       "water seltzer sparkling water    0.350742\n",
       "ice cream ice                    0.295351\n",
       "refrigerated                     0.285476\n",
       "dtype: float64"
      ]
     },
     "execution_count": 17,
     "metadata": {},
     "output_type": "execute_result"
    }
   ],
   "source": [
    "cluster1.drop('cluster',axis=1).mean().sort_values(ascending=False)[0:10]"
   ]
  },
  {
   "cell_type": "markdown",
   "metadata": {},
   "source": [
    "- Cluster 1 results into 28759 consumers who orders products from many aisles. Their mean orders are low compared to other clusters which tells us that either they are not frequent users of Instacart or they are new users and do not have many orders yet. "
   ]
  },
  {
   "cell_type": "code",
   "execution_count": 18,
   "metadata": {},
   "outputs": [
    {
     "data": {
      "text/plain": [
       "(20961, 135)"
      ]
     },
     "execution_count": 18,
     "metadata": {},
     "output_type": "execute_result"
    }
   ],
   "source": [
    "cluster2.shape"
   ]
  },
  {
   "cell_type": "code",
   "execution_count": 19,
   "metadata": {},
   "outputs": [
    {
     "data": {
      "text/plain": [
       "aisle\n",
       "fresh fruits                     3.077716\n",
       "fresh vegetables                 1.638376\n",
       "packaged vegetables fruits       1.385239\n",
       "yogurt                           0.934259\n",
       "packaged cheese                  0.583512\n",
       "milk                             0.508945\n",
       "soy lactosefree                  0.392491\n",
       "water seltzer sparkling water    0.375889\n",
       "bread                            0.340537\n",
       "chips pretzels                   0.337341\n",
       "dtype: float64"
      ]
     },
     "execution_count": 19,
     "metadata": {},
     "output_type": "execute_result"
    }
   ],
   "source": [
    "cluster2.drop('cluster',axis=1).mean().sort_values(ascending=False)[0:10]"
   ]
  },
  {
   "cell_type": "markdown",
   "metadata": {},
   "source": [
    "- Cluster 2 results into 20961 consumers who buy fresh fruits and fresh vegetables, and packaged vegetable fruits mostly."
   ]
  },
  {
   "cell_type": "code",
   "execution_count": 20,
   "metadata": {},
   "outputs": [
    {
     "data": {
      "text/plain": [
       "(11871, 135)"
      ]
     },
     "execution_count": 20,
     "metadata": {},
     "output_type": "execute_result"
    }
   ],
   "source": [
    "cluster3.shape"
   ]
  },
  {
   "cell_type": "code",
   "execution_count": 21,
   "metadata": {},
   "outputs": [
    {
     "data": {
      "text/plain": [
       "aisle\n",
       "fresh vegetables                 4.522281\n",
       "fresh fruits                     1.673322\n",
       "packaged vegetables fruits       0.944065\n",
       "yogurt                           0.421447\n",
       "packaged cheese                  0.395249\n",
       "fresh herbs                      0.382613\n",
       "soy lactosefree                  0.291804\n",
       "milk                             0.286160\n",
       "frozen produce                   0.265858\n",
       "water seltzer sparkling water    0.232415\n",
       "dtype: float64"
      ]
     },
     "execution_count": 21,
     "metadata": {},
     "output_type": "execute_result"
    }
   ],
   "source": [
    "cluster3.drop('cluster',axis=1).mean().sort_values(ascending=False)[0:10]"
   ]
  },
  {
   "cell_type": "markdown",
   "metadata": {},
   "source": [
    "- Cluster 3 results into 11871 consumers who mostly order fresh vegetables followed by fruits."
   ]
  },
  {
   "cell_type": "code",
   "execution_count": 22,
   "metadata": {},
   "outputs": [
    {
     "data": {
      "text/plain": [
       "(4116, 135)"
      ]
     },
     "execution_count": 22,
     "metadata": {},
     "output_type": "execute_result"
    }
   ],
   "source": [
    "cluster4.shape"
   ]
  },
  {
   "cell_type": "code",
   "execution_count": 23,
   "metadata": {},
   "outputs": [
    {
     "data": {
      "text/plain": [
       "aisle\n",
       "fresh fruits                     3.242711\n",
       "fresh vegetables                 0.374879\n",
       "packaged vegetables fruits       0.334062\n",
       "packaged produce                 0.265792\n",
       "milk                             0.212099\n",
       "yogurt                           0.179300\n",
       "soy lactosefree                  0.131438\n",
       "water seltzer sparkling water    0.125121\n",
       "packaged cheese                  0.101312\n",
       "bread                            0.091108\n",
       "dtype: float64"
      ]
     },
     "execution_count": 23,
     "metadata": {},
     "output_type": "execute_result"
    }
   ],
   "source": [
    "cluster4.drop('cluster',axis=1).mean().sort_values(ascending=False)[0:10]"
   ]
  },
  {
   "cell_type": "markdown",
   "metadata": {},
   "source": [
    "- Cluster 4 results into 4116 consumers who have a very strong preference for fruits followed by fresh vegetables."
   ]
  },
  {
   "cell_type": "code",
   "execution_count": 24,
   "metadata": {},
   "outputs": [
    {
     "data": {
      "text/plain": [
       "(1743, 135)"
      ]
     },
     "execution_count": 24,
     "metadata": {},
     "output_type": "execute_result"
    }
   ],
   "source": [
    "cluster5.shape"
   ]
  },
  {
   "cell_type": "code",
   "execution_count": 25,
   "metadata": {},
   "outputs": [
    {
     "data": {
      "text/plain": [
       "aisle\n",
       "water seltzer sparkling water    2.405622\n",
       "fresh fruits                     0.186460\n",
       "soft drinks                      0.183018\n",
       "yogurt                           0.115318\n",
       "milk                             0.099828\n",
       "packaged vegetables fruits       0.090075\n",
       "soy lactosefree                  0.081469\n",
       "refrigerated                     0.075731\n",
       "tea                              0.074010\n",
       "cream                            0.071715\n",
       "dtype: float64"
      ]
     },
     "execution_count": 25,
     "metadata": {},
     "output_type": "execute_result"
    }
   ],
   "source": [
    "cluster5.drop('cluster',axis=1).mean().sort_values(ascending=False)[0:10]"
   ]
  },
  {
   "cell_type": "markdown",
   "metadata": {},
   "source": [
    "Customer Segmentation Results:"
   ]
  },
  {
   "cell_type": "markdown",
   "metadata": {},
   "source": [
    "- Cluster 5 results into 1743 consumers having a very strong preference for water seltzer sparkling water aisle."
   ]
  },
  {
   "cell_type": "code",
   "execution_count": null,
   "metadata": {},
   "outputs": [],
   "source": []
  }
 ],
 "metadata": {
  "kernelspec": {
   "display_name": "Python 3 (ipykernel)",
   "language": "python",
   "name": "python3"
  },
  "language_info": {
   "codemirror_mode": {
    "name": "ipython",
    "version": 3
   },
   "file_extension": ".py",
   "mimetype": "text/x-python",
   "name": "python",
   "nbconvert_exporter": "python",
   "pygments_lexer": "ipython3",
   "version": "3.10.4"
  }
 },
 "nbformat": 4,
 "nbformat_minor": 4
}
