{
 "cells": [
  {
   "cell_type": "code",
   "execution_count": 41,
   "id": "2c4d4dd8-08a5-49dd-8b71-23f380976f68",
   "metadata": {},
   "outputs": [
    {
     "name": "stdout",
     "output_type": "stream",
     "text": [
      "Requirement already satisfied: presto-python-client in /opt/conda/lib/python3.10/site-packages (0.8.2)\n",
      "Requirement already satisfied: click in /opt/conda/lib/python3.10/site-packages (from presto-python-client) (8.1.3)\n",
      "Requirement already satisfied: six in /opt/conda/lib/python3.10/site-packages (from presto-python-client) (1.16.0)\n",
      "Requirement already satisfied: requests in /opt/conda/lib/python3.10/site-packages (from presto-python-client) (2.27.1)\n",
      "Requirement already satisfied: certifi>=2017.4.17 in /opt/conda/lib/python3.10/site-packages (from requests->presto-python-client) (2022.5.18.1)\n",
      "Requirement already satisfied: charset-normalizer~=2.0.0 in /opt/conda/lib/python3.10/site-packages (from requests->presto-python-client) (2.0.12)\n",
      "Requirement already satisfied: urllib3<1.27,>=1.21.1 in /opt/conda/lib/python3.10/site-packages (from requests->presto-python-client) (1.26.9)\n",
      "Requirement already satisfied: idna<4,>=2.5 in /opt/conda/lib/python3.10/site-packages (from requests->presto-python-client) (3.3)\n"
     ]
    }
   ],
   "source": [
    "!pip install presto-python-client\n",
    "import prestodb\n",
    "import pandas as pd"
   ]
  },
  {
   "cell_type": "code",
   "execution_count": 45,
   "id": "c80c1253-7e46-4bf0-b8b4-078323bc86ba",
   "metadata": {},
   "outputs": [],
   "source": [
    "source_conn=prestodb.dbapi.connect(\n",
    "    host='presto-service',\n",
    "    port=8282,\n",
    "    user='presto',\n",
    "    catalog='hive',\n",
    "    schema='source',\n",
    ")\n",
    "\n",
    "sample_conn=prestodb.dbapi.connect(\n",
    "    host='presto-service',\n",
    "    port=8282,\n",
    "    user='presto',\n",
    "    catalog='hive',\n",
    "    schema='sample',\n",
    ")\n",
    "\n"
   ]
  },
  {
   "cell_type": "code",
   "execution_count": 43,
   "id": "8327de63-59f6-47d6-be35-b97092a8cc6e",
   "metadata": {},
   "outputs": [
    {
     "data": {
      "text/html": [
       "<div>\n",
       "<style scoped>\n",
       "    .dataframe tbody tr th:only-of-type {\n",
       "        vertical-align: middle;\n",
       "    }\n",
       "\n",
       "    .dataframe tbody tr th {\n",
       "        vertical-align: top;\n",
       "    }\n",
       "\n",
       "    .dataframe thead th {\n",
       "        text-align: right;\n",
       "    }\n",
       "</style>\n",
       "<table border=\"1\" class=\"dataframe\">\n",
       "  <thead>\n",
       "    <tr style=\"text-align: right;\">\n",
       "      <th></th>\n",
       "      <th>Table</th>\n",
       "    </tr>\n",
       "  </thead>\n",
       "  <tbody>\n",
       "    <tr>\n",
       "      <th>0</th>\n",
       "      <td>aisles</td>\n",
       "    </tr>\n",
       "    <tr>\n",
       "      <th>1</th>\n",
       "      <td>departments</td>\n",
       "    </tr>\n",
       "    <tr>\n",
       "      <th>2</th>\n",
       "      <td>order_products</td>\n",
       "    </tr>\n",
       "    <tr>\n",
       "      <th>3</th>\n",
       "      <td>order_products_new</td>\n",
       "    </tr>\n",
       "    <tr>\n",
       "      <th>4</th>\n",
       "      <td>orders</td>\n",
       "    </tr>\n",
       "    <tr>\n",
       "      <th>5</th>\n",
       "      <td>products</td>\n",
       "    </tr>\n",
       "  </tbody>\n",
       "</table>\n",
       "</div>"
      ],
      "text/plain": [
       "                Table\n",
       "0              aisles\n",
       "1         departments\n",
       "2      order_products\n",
       "3  order_products_new\n",
       "4              orders\n",
       "5            products"
      ]
     },
     "execution_count": 43,
     "metadata": {},
     "output_type": "execute_result"
    }
   ],
   "source": [
    "cur = source_conn.cursor()\n",
    "cur.execute('show tables')\n",
    "pd.DataFrame.from_records(cur.fetchall(), columns = [i[0] for i in cur.description])"
   ]
  },
  {
   "cell_type": "code",
   "execution_count": 46,
   "id": "c8541af9-b4fb-49d4-9c0a-27478e123cc9",
   "metadata": {},
   "outputs": [
    {
     "data": {
      "text/html": [
       "<div>\n",
       "<style scoped>\n",
       "    .dataframe tbody tr th:only-of-type {\n",
       "        vertical-align: middle;\n",
       "    }\n",
       "\n",
       "    .dataframe tbody tr th {\n",
       "        vertical-align: top;\n",
       "    }\n",
       "\n",
       "    .dataframe thead th {\n",
       "        text-align: right;\n",
       "    }\n",
       "</style>\n",
       "<table border=\"1\" class=\"dataframe\">\n",
       "  <thead>\n",
       "    <tr style=\"text-align: right;\">\n",
       "      <th></th>\n",
       "      <th>Table</th>\n",
       "    </tr>\n",
       "  </thead>\n",
       "  <tbody>\n",
       "    <tr>\n",
       "      <th>0</th>\n",
       "      <td>avg_product_count_by_dow</td>\n",
       "    </tr>\n",
       "    <tr>\n",
       "      <th>1</th>\n",
       "      <td>order_products</td>\n",
       "    </tr>\n",
       "    <tr>\n",
       "      <th>2</th>\n",
       "      <td>product_count</td>\n",
       "    </tr>\n",
       "    <tr>\n",
       "      <th>3</th>\n",
       "      <td>stg_order_products</td>\n",
       "    </tr>\n",
       "    <tr>\n",
       "      <th>4</th>\n",
       "      <td>stg_orders</td>\n",
       "    </tr>\n",
       "    <tr>\n",
       "      <th>5</th>\n",
       "      <td>top_selling_products</td>\n",
       "    </tr>\n",
       "  </tbody>\n",
       "</table>\n",
       "</div>"
      ],
      "text/plain": [
       "                      Table\n",
       "0  avg_product_count_by_dow\n",
       "1            order_products\n",
       "2             product_count\n",
       "3        stg_order_products\n",
       "4                stg_orders\n",
       "5      top_selling_products"
      ]
     },
     "execution_count": 46,
     "metadata": {},
     "output_type": "execute_result"
    }
   ],
   "source": [
    "cur = sample_conn.cursor()\n",
    "cur.execute('show tables')\n",
    "pd.DataFrame.from_records(cur.fetchall(), columns = [i[0] for i in cur.description])"
   ]
  },
  {
   "cell_type": "code",
   "execution_count": 50,
   "id": "6cfd57b3-79aa-4754-99fb-d4f9937696df",
   "metadata": {},
   "outputs": [
    {
     "data": {
      "text/html": [
       "<div>\n",
       "<style scoped>\n",
       "    .dataframe tbody tr th:only-of-type {\n",
       "        vertical-align: middle;\n",
       "    }\n",
       "\n",
       "    .dataframe tbody tr th {\n",
       "        vertical-align: top;\n",
       "    }\n",
       "\n",
       "    .dataframe thead th {\n",
       "        text-align: right;\n",
       "    }\n",
       "</style>\n",
       "<table border=\"1\" class=\"dataframe\">\n",
       "  <thead>\n",
       "    <tr style=\"text-align: right;\">\n",
       "      <th></th>\n",
       "      <th>order_id</th>\n",
       "      <th>product_id</th>\n",
       "    </tr>\n",
       "  </thead>\n",
       "  <tbody>\n",
       "  </tbody>\n",
       "</table>\n",
       "</div>"
      ],
      "text/plain": [
       "Empty DataFrame\n",
       "Columns: [order_id, product_id]\n",
       "Index: []"
      ]
     },
     "execution_count": 50,
     "metadata": {},
     "output_type": "execute_result"
    }
   ],
   "source": [
    "cur.execute('select order_id, product_id from stg_order_products where product_id is null limit 10')\n",
    "pd.DataFrame.from_records(cur.fetchall(), columns = [i[0] for i in cur.description])"
   ]
  },
  {
   "cell_type": "code",
   "execution_count": null,
   "id": "aa4e4872-ba37-4d5d-849f-69e479bd0a71",
   "metadata": {},
   "outputs": [],
   "source": [
    "conn=prestodb.dbapi.connect(\n",
    "    host='presto-service',\n",
    "    port=8282,\n",
    "    user='presto',\n",
    "    catalog='hive',\n",
    "    schema='sample',\n",
    ")\n",
    "cur = conn.cursor()\n",
    "cur.execute('show tables')\n",
    "pd.DataFrame.from_records(cur.fetchall(), columns = [i[0] for i in cur.description])"
   ]
  },
  {
   "cell_type": "code",
   "execution_count": 53,
   "id": "42afa7e4-2010-493c-8ac3-8357ebda081e",
   "metadata": {},
   "outputs": [
    {
     "data": {
      "text/html": [
       "<div>\n",
       "<style scoped>\n",
       "    .dataframe tbody tr th:only-of-type {\n",
       "        vertical-align: middle;\n",
       "    }\n",
       "\n",
       "    .dataframe tbody tr th {\n",
       "        vertical-align: top;\n",
       "    }\n",
       "\n",
       "    .dataframe thead th {\n",
       "        text-align: right;\n",
       "    }\n",
       "</style>\n",
       "<table border=\"1\" class=\"dataframe\">\n",
       "  <thead>\n",
       "    <tr style=\"text-align: right;\">\n",
       "      <th></th>\n",
       "      <th>order_id</th>\n",
       "      <th>user_id</th>\n",
       "      <th>order_number</th>\n",
       "      <th>order_dow</th>\n",
       "      <th>order_hour_of_day</th>\n",
       "      <th>days_since_prior_order</th>\n",
       "      <th>days_since_prior_order_cum</th>\n",
       "      <th>order_date</th>\n",
       "      <th>product_id</th>\n",
       "      <th>add_to_cart_order</th>\n",
       "      <th>reordered</th>\n",
       "    </tr>\n",
       "  </thead>\n",
       "  <tbody>\n",
       "  </tbody>\n",
       "</table>\n",
       "</div>"
      ],
      "text/plain": [
       "Empty DataFrame\n",
       "Columns: [order_id, user_id, order_number, order_dow, order_hour_of_day, days_since_prior_order, days_since_prior_order_cum, order_date, product_id, add_to_cart_order, reordered]\n",
       "Index: []"
      ]
     },
     "execution_count": 53,
     "metadata": {},
     "output_type": "execute_result"
    }
   ],
   "source": [
    "cur.execute('''\n",
    "with v_orders as (\n",
    "    select * from  sample.stg_orders\n",
    "), v_orderprodcts as (\n",
    "    select  * from sample.stg_order_products\n",
    "), v_products as (\n",
    "    select * from  source.products\n",
    "), v_aisles as (\n",
    "    select * from  source.aisles\n",
    "), v_departments as (\n",
    "    select * from  source.departments\n",
    ")  select \n",
    "    t1.order_id, t1.user_id, t1.order_number, t1.order_dow, t1.order_hour_of_day, t1.days_since_prior_order, t1.days_since_prior_order_cum, t1.order_date\n",
    "    , t2.product_id, t2.add_to_cart_order, t2.reordered\n",
    "    \n",
    "    from v_orders t1\n",
    "    join v_orderprodcts t2 on t1.order_id = t2.order_id\n",
    "    \n",
    "''')\n",
    "pd.DataFrame.from_records(cur.fetchall(), columns = [i[0] for i in cur.description])"
   ]
  },
  {
   "cell_type": "code",
   "execution_count": null,
   "id": "f59e3b70-3a7d-42ed-8ff8-94dac4e0033c",
   "metadata": {},
   "outputs": [],
   "source": [
    "cur.execute('''select  * from sample.stg_orders where order_id = 1569900''')\n",
    "pd.DataFrame.from_records(cur.fetchall(), columns = [i[0] for i in cur.description])"
   ]
  },
  {
   "cell_type": "code",
   "execution_count": null,
   "id": "2549d13c-8556-408f-9711-6d4400a2b3b1",
   "metadata": {},
   "outputs": [],
   "source": [
    "cur.execute('''select  * from sample.stg_order_products where order_id = 1569900''')\n",
    "pd.DataFrame.from_records(cur.fetchall(), columns = [i[0] for i in cur.description])"
   ]
  },
  {
   "cell_type": "code",
   "execution_count": null,
   "id": "a11a345e-cd11-40c4-9cdd-daa11f78bc41",
   "metadata": {},
   "outputs": [],
   "source": []
  }
 ],
 "metadata": {
  "kernelspec": {
   "display_name": "Python 3 (ipykernel)",
   "language": "python",
   "name": "python3"
  },
  "language_info": {
   "codemirror_mode": {
    "name": "ipython",
    "version": 3
   },
   "file_extension": ".py",
   "mimetype": "text/x-python",
   "name": "python",
   "nbconvert_exporter": "python",
   "pygments_lexer": "ipython3",
   "version": "3.10.4"
  }
 },
 "nbformat": 4,
 "nbformat_minor": 5
}
