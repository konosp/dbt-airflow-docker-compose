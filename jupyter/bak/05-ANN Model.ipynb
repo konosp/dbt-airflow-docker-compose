{
 "cells": [
  {
   "cell_type": "markdown",
   "metadata": {},
   "source": [
    "## Modeling"
   ]
  },
  {
   "cell_type": "code",
   "execution_count": 1,
   "metadata": {},
   "outputs": [
    {
     "name": "stderr",
     "output_type": "stream",
     "text": [
      "Using TensorFlow backend.\n"
     ]
    }
   ],
   "source": [
    "import numpy as np\n",
    "import pandas as pd\n",
    "import matplotlib.pyplot as plt\n",
    "import seaborn as sns\n",
    "import gc\n",
    "pd.options.mode.chained_assignment = None\n",
    "\n",
    "root = 'C:/Data/instacart-market-basket-analysis/'\n",
    "\n",
    "from sklearn.model_selection import train_test_split, GridSearchCV, cross_val_score\n",
    "from sklearn.metrics import confusion_matrix, accuracy_score, classification_report\n",
    "from sklearn.metrics import roc_auc_score, roc_curve, precision_score, recall_score, f1_score\n",
    "from imblearn.over_sampling import SMOTE"
   ]
  },
  {
   "cell_type": "code",
   "execution_count": 2,
   "metadata": {},
   "outputs": [
    {
     "data": {
      "text/html": [
       "<div>\n",
       "<style scoped>\n",
       "    .dataframe tbody tr th:only-of-type {\n",
       "        vertical-align: middle;\n",
       "    }\n",
       "\n",
       "    .dataframe tbody tr th {\n",
       "        vertical-align: top;\n",
       "    }\n",
       "\n",
       "    .dataframe thead th {\n",
       "        text-align: right;\n",
       "    }\n",
       "</style>\n",
       "<table border=\"1\" class=\"dataframe\">\n",
       "  <thead>\n",
       "    <tr style=\"text-align: right;\">\n",
       "      <th></th>\n",
       "      <th>user_id</th>\n",
       "      <th>product_id</th>\n",
       "      <th>total_product_orders_by_user</th>\n",
       "      <th>total_product_reorders_by_user</th>\n",
       "      <th>user_product_reorder_percentage</th>\n",
       "      <th>avg_add_to_cart_by_user</th>\n",
       "      <th>avg_days_since_last_bought</th>\n",
       "      <th>last_ordered_in</th>\n",
       "      <th>is_reorder_3</th>\n",
       "      <th>is_reorder_2</th>\n",
       "      <th>...</th>\n",
       "      <th>total_reorders_by_user</th>\n",
       "      <th>reorder_propotion_by_user</th>\n",
       "      <th>average_order_size</th>\n",
       "      <th>reorder_in_order</th>\n",
       "      <th>orders_3</th>\n",
       "      <th>orders_2</th>\n",
       "      <th>orders_1</th>\n",
       "      <th>reorder_3</th>\n",
       "      <th>reorder_2</th>\n",
       "      <th>reorder_1</th>\n",
       "    </tr>\n",
       "  </thead>\n",
       "  <tbody>\n",
       "    <tr>\n",
       "      <th>0</th>\n",
       "      <td>1</td>\n",
       "      <td>196</td>\n",
       "      <td>10.0</td>\n",
       "      <td>9.0</td>\n",
       "      <td>0.900000</td>\n",
       "      <td>1.400000</td>\n",
       "      <td>17.600000</td>\n",
       "      <td>10.0</td>\n",
       "      <td>1.0</td>\n",
       "      <td>1.0</td>\n",
       "      <td>...</td>\n",
       "      <td>41.0</td>\n",
       "      <td>0.694915</td>\n",
       "      <td>5.9</td>\n",
       "      <td>0.705833</td>\n",
       "      <td>6</td>\n",
       "      <td>6</td>\n",
       "      <td>9</td>\n",
       "      <td>0.666667</td>\n",
       "      <td>1.0</td>\n",
       "      <td>0.666667</td>\n",
       "    </tr>\n",
       "    <tr>\n",
       "      <th>1</th>\n",
       "      <td>1</td>\n",
       "      <td>10258</td>\n",
       "      <td>9.0</td>\n",
       "      <td>8.0</td>\n",
       "      <td>0.888889</td>\n",
       "      <td>3.333333</td>\n",
       "      <td>19.555555</td>\n",
       "      <td>10.0</td>\n",
       "      <td>1.0</td>\n",
       "      <td>1.0</td>\n",
       "      <td>...</td>\n",
       "      <td>41.0</td>\n",
       "      <td>0.694915</td>\n",
       "      <td>5.9</td>\n",
       "      <td>0.705833</td>\n",
       "      <td>6</td>\n",
       "      <td>6</td>\n",
       "      <td>9</td>\n",
       "      <td>0.666667</td>\n",
       "      <td>1.0</td>\n",
       "      <td>0.666667</td>\n",
       "    </tr>\n",
       "    <tr>\n",
       "      <th>2</th>\n",
       "      <td>1</td>\n",
       "      <td>10326</td>\n",
       "      <td>1.0</td>\n",
       "      <td>0.0</td>\n",
       "      <td>0.000000</td>\n",
       "      <td>5.000000</td>\n",
       "      <td>28.000000</td>\n",
       "      <td>5.0</td>\n",
       "      <td>0.0</td>\n",
       "      <td>0.0</td>\n",
       "      <td>...</td>\n",
       "      <td>41.0</td>\n",
       "      <td>0.694915</td>\n",
       "      <td>5.9</td>\n",
       "      <td>0.705833</td>\n",
       "      <td>6</td>\n",
       "      <td>6</td>\n",
       "      <td>9</td>\n",
       "      <td>0.666667</td>\n",
       "      <td>1.0</td>\n",
       "      <td>0.666667</td>\n",
       "    </tr>\n",
       "    <tr>\n",
       "      <th>3</th>\n",
       "      <td>1</td>\n",
       "      <td>12427</td>\n",
       "      <td>10.0</td>\n",
       "      <td>9.0</td>\n",
       "      <td>0.900000</td>\n",
       "      <td>3.300000</td>\n",
       "      <td>17.600000</td>\n",
       "      <td>10.0</td>\n",
       "      <td>1.0</td>\n",
       "      <td>1.0</td>\n",
       "      <td>...</td>\n",
       "      <td>41.0</td>\n",
       "      <td>0.694915</td>\n",
       "      <td>5.9</td>\n",
       "      <td>0.705833</td>\n",
       "      <td>6</td>\n",
       "      <td>6</td>\n",
       "      <td>9</td>\n",
       "      <td>0.666667</td>\n",
       "      <td>1.0</td>\n",
       "      <td>0.666667</td>\n",
       "    </tr>\n",
       "    <tr>\n",
       "      <th>4</th>\n",
       "      <td>1</td>\n",
       "      <td>13032</td>\n",
       "      <td>3.0</td>\n",
       "      <td>2.0</td>\n",
       "      <td>0.666667</td>\n",
       "      <td>6.333333</td>\n",
       "      <td>21.666666</td>\n",
       "      <td>10.0</td>\n",
       "      <td>1.0</td>\n",
       "      <td>0.0</td>\n",
       "      <td>...</td>\n",
       "      <td>41.0</td>\n",
       "      <td>0.694915</td>\n",
       "      <td>5.9</td>\n",
       "      <td>0.705833</td>\n",
       "      <td>6</td>\n",
       "      <td>6</td>\n",
       "      <td>9</td>\n",
       "      <td>0.666667</td>\n",
       "      <td>1.0</td>\n",
       "      <td>0.666667</td>\n",
       "    </tr>\n",
       "  </tbody>\n",
       "</table>\n",
       "<p>5 rows × 71 columns</p>\n",
       "</div>"
      ],
      "text/plain": [
       "   user_id  product_id  total_product_orders_by_user  \\\n",
       "0        1         196                          10.0   \n",
       "1        1       10258                           9.0   \n",
       "2        1       10326                           1.0   \n",
       "3        1       12427                          10.0   \n",
       "4        1       13032                           3.0   \n",
       "\n",
       "   total_product_reorders_by_user  user_product_reorder_percentage  \\\n",
       "0                             9.0                         0.900000   \n",
       "1                             8.0                         0.888889   \n",
       "2                             0.0                         0.000000   \n",
       "3                             9.0                         0.900000   \n",
       "4                             2.0                         0.666667   \n",
       "\n",
       "   avg_add_to_cart_by_user  avg_days_since_last_bought  last_ordered_in  \\\n",
       "0                 1.400000                   17.600000             10.0   \n",
       "1                 3.333333                   19.555555             10.0   \n",
       "2                 5.000000                   28.000000              5.0   \n",
       "3                 3.300000                   17.600000             10.0   \n",
       "4                 6.333333                   21.666666             10.0   \n",
       "\n",
       "   is_reorder_3  is_reorder_2  ...  total_reorders_by_user  \\\n",
       "0           1.0           1.0  ...                    41.0   \n",
       "1           1.0           1.0  ...                    41.0   \n",
       "2           0.0           0.0  ...                    41.0   \n",
       "3           1.0           1.0  ...                    41.0   \n",
       "4           1.0           0.0  ...                    41.0   \n",
       "\n",
       "   reorder_propotion_by_user  average_order_size  reorder_in_order  orders_3  \\\n",
       "0                   0.694915                 5.9          0.705833         6   \n",
       "1                   0.694915                 5.9          0.705833         6   \n",
       "2                   0.694915                 5.9          0.705833         6   \n",
       "3                   0.694915                 5.9          0.705833         6   \n",
       "4                   0.694915                 5.9          0.705833         6   \n",
       "\n",
       "   orders_2  orders_1  reorder_3  reorder_2  reorder_1  \n",
       "0         6         9   0.666667        1.0   0.666667  \n",
       "1         6         9   0.666667        1.0   0.666667  \n",
       "2         6         9   0.666667        1.0   0.666667  \n",
       "3         6         9   0.666667        1.0   0.666667  \n",
       "4         6         9   0.666667        1.0   0.666667  \n",
       "\n",
       "[5 rows x 71 columns]"
      ]
     },
     "execution_count": 2,
     "metadata": {},
     "output_type": "execute_result"
    }
   ],
   "source": [
    "df = pd.read_pickle(root + 'Finaldata.pkl')\n",
    "df.head()"
   ]
  },
  {
   "cell_type": "code",
   "execution_count": 3,
   "metadata": {},
   "outputs": [],
   "source": [
    "def reduce_memory(df):\n",
    "    \n",
    "    \"\"\"\n",
    "    This function reduce the dataframe memory usage by converting it's type for easier handling.\n",
    "    \n",
    "    Parameters: Dataframe\n",
    "    Return: Dataframe\n",
    "    \"\"\"\n",
    "    \n",
    "    start_mem_usg = df.memory_usage().sum() / 1024**2 \n",
    "    print(\"Memory usage of properties dataframe is :\",start_mem_usg,\" MB\")\n",
    "    \n",
    "    for col in df.columns:\n",
    "        if df[col].dtypes in [\"int64\", \"int32\", \"int16\"]:\n",
    "            \n",
    "            cmin = df[col].min()\n",
    "            cmax = df[col].max()\n",
    "            \n",
    "            if cmin > np.iinfo(np.int8).min and cmax < np.iinfo(np.int8).max:\n",
    "                df[col] = df[col].astype(np.int8)\n",
    "            \n",
    "            elif cmin > np.iinfo(np.int16).min and cmax < np.iinfo(np.int16).max:\n",
    "                df[col] = df[col].astype(np.int16)\n",
    "            \n",
    "            elif cmin > np.iinfo(np.int32).min and cmax < np.iinfo(np.int32).max:\n",
    "                df[col] = df[col].astype(np.int32)\n",
    "        \n",
    "        if df[col].dtypes in [\"float64\", \"float32\"]:\n",
    "            \n",
    "            cmin = df[col].min()\n",
    "            cmax = df[col].max()\n",
    "            \n",
    "            if cmin > np.finfo(np.float16).min and cmax < np.finfo(np.float16).max:\n",
    "                df[col] = df[col].astype(np.float16)\n",
    "            \n",
    "            elif cmin > np.finfo(np.float32).min and cmax < np.finfo(np.float32).max:\n",
    "                df[col] = df[col].astype(np.float32)\n",
    "    \n",
    "    print(\"\")\n",
    "    print(\"___MEMORY USAGE AFTER COMPLETION:___\")\n",
    "    mem_usg = df.memory_usage().sum() / 1024**2 \n",
    "    print(\"Memory usage is: \",mem_usg,\" MB\")\n",
    "    print(\"This is \",100*mem_usg/start_mem_usg,\"% of the initial size\")\n",
    "    \n",
    "    return df"
   ]
  },
  {
   "cell_type": "code",
   "execution_count": 4,
   "metadata": {},
   "outputs": [
    {
     "name": "stdout",
     "output_type": "stream",
     "text": [
      "Memory usage of properties dataframe is : 4428.972461700439  MB\n",
      "\n",
      "___MEMORY USAGE AFTER COMPLETION:___\n",
      "Memory usage is:  1293.1306457519531  MB\n",
      "This is  29.197080291970803 % of the initial size\n"
     ]
    }
   ],
   "source": [
    "df = reduce_memory(df)"
   ]
  },
  {
   "cell_type": "code",
   "execution_count": 5,
   "metadata": {},
   "outputs": [],
   "source": [
    "df['order_diff'] = df.order_number - df.last_ordered_in\n",
    "df.drop(['user_id', 'product_id'], axis = 1, inplace = True)"
   ]
  },
  {
   "cell_type": "code",
   "execution_count": 6,
   "metadata": {},
   "outputs": [
    {
     "data": {
      "text/html": [
       "<div>\n",
       "<style scoped>\n",
       "    .dataframe tbody tr th:only-of-type {\n",
       "        vertical-align: middle;\n",
       "    }\n",
       "\n",
       "    .dataframe tbody tr th {\n",
       "        vertical-align: top;\n",
       "    }\n",
       "\n",
       "    .dataframe thead th {\n",
       "        text-align: right;\n",
       "    }\n",
       "</style>\n",
       "<table border=\"1\" class=\"dataframe\">\n",
       "  <thead>\n",
       "    <tr style=\"text-align: right;\">\n",
       "      <th></th>\n",
       "      <th>total_product_orders_by_user</th>\n",
       "      <th>total_product_reorders_by_user</th>\n",
       "      <th>user_product_reorder_percentage</th>\n",
       "      <th>avg_add_to_cart_by_user</th>\n",
       "      <th>avg_days_since_last_bought</th>\n",
       "      <th>last_ordered_in</th>\n",
       "      <th>is_reorder_3</th>\n",
       "      <th>is_reorder_2</th>\n",
       "      <th>is_reorder_1</th>\n",
       "      <th>order_number</th>\n",
       "      <th>...</th>\n",
       "      <th>reorder_propotion_by_user</th>\n",
       "      <th>average_order_size</th>\n",
       "      <th>reorder_in_order</th>\n",
       "      <th>orders_3</th>\n",
       "      <th>orders_2</th>\n",
       "      <th>orders_1</th>\n",
       "      <th>reorder_3</th>\n",
       "      <th>reorder_2</th>\n",
       "      <th>reorder_1</th>\n",
       "      <th>order_diff</th>\n",
       "    </tr>\n",
       "  </thead>\n",
       "  <tbody>\n",
       "    <tr>\n",
       "      <th>0</th>\n",
       "      <td>10.0</td>\n",
       "      <td>9.0</td>\n",
       "      <td>0.899902</td>\n",
       "      <td>1.400391</td>\n",
       "      <td>17.593750</td>\n",
       "      <td>10.0</td>\n",
       "      <td>1.0</td>\n",
       "      <td>1.0</td>\n",
       "      <td>1.0</td>\n",
       "      <td>11.0</td>\n",
       "      <td>...</td>\n",
       "      <td>0.694824</td>\n",
       "      <td>5.898438</td>\n",
       "      <td>0.706055</td>\n",
       "      <td>6</td>\n",
       "      <td>6</td>\n",
       "      <td>9</td>\n",
       "      <td>0.666504</td>\n",
       "      <td>1.0</td>\n",
       "      <td>0.666504</td>\n",
       "      <td>1.0</td>\n",
       "    </tr>\n",
       "    <tr>\n",
       "      <th>1</th>\n",
       "      <td>9.0</td>\n",
       "      <td>8.0</td>\n",
       "      <td>0.888672</td>\n",
       "      <td>3.333984</td>\n",
       "      <td>19.562500</td>\n",
       "      <td>10.0</td>\n",
       "      <td>1.0</td>\n",
       "      <td>1.0</td>\n",
       "      <td>1.0</td>\n",
       "      <td>11.0</td>\n",
       "      <td>...</td>\n",
       "      <td>0.694824</td>\n",
       "      <td>5.898438</td>\n",
       "      <td>0.706055</td>\n",
       "      <td>6</td>\n",
       "      <td>6</td>\n",
       "      <td>9</td>\n",
       "      <td>0.666504</td>\n",
       "      <td>1.0</td>\n",
       "      <td>0.666504</td>\n",
       "      <td>1.0</td>\n",
       "    </tr>\n",
       "    <tr>\n",
       "      <th>2</th>\n",
       "      <td>1.0</td>\n",
       "      <td>0.0</td>\n",
       "      <td>0.000000</td>\n",
       "      <td>5.000000</td>\n",
       "      <td>28.000000</td>\n",
       "      <td>5.0</td>\n",
       "      <td>0.0</td>\n",
       "      <td>0.0</td>\n",
       "      <td>0.0</td>\n",
       "      <td>11.0</td>\n",
       "      <td>...</td>\n",
       "      <td>0.694824</td>\n",
       "      <td>5.898438</td>\n",
       "      <td>0.706055</td>\n",
       "      <td>6</td>\n",
       "      <td>6</td>\n",
       "      <td>9</td>\n",
       "      <td>0.666504</td>\n",
       "      <td>1.0</td>\n",
       "      <td>0.666504</td>\n",
       "      <td>6.0</td>\n",
       "    </tr>\n",
       "    <tr>\n",
       "      <th>3</th>\n",
       "      <td>10.0</td>\n",
       "      <td>9.0</td>\n",
       "      <td>0.899902</td>\n",
       "      <td>3.300781</td>\n",
       "      <td>17.593750</td>\n",
       "      <td>10.0</td>\n",
       "      <td>1.0</td>\n",
       "      <td>1.0</td>\n",
       "      <td>1.0</td>\n",
       "      <td>11.0</td>\n",
       "      <td>...</td>\n",
       "      <td>0.694824</td>\n",
       "      <td>5.898438</td>\n",
       "      <td>0.706055</td>\n",
       "      <td>6</td>\n",
       "      <td>6</td>\n",
       "      <td>9</td>\n",
       "      <td>0.666504</td>\n",
       "      <td>1.0</td>\n",
       "      <td>0.666504</td>\n",
       "      <td>1.0</td>\n",
       "    </tr>\n",
       "    <tr>\n",
       "      <th>4</th>\n",
       "      <td>3.0</td>\n",
       "      <td>2.0</td>\n",
       "      <td>0.666504</td>\n",
       "      <td>6.332031</td>\n",
       "      <td>21.671875</td>\n",
       "      <td>10.0</td>\n",
       "      <td>1.0</td>\n",
       "      <td>0.0</td>\n",
       "      <td>0.0</td>\n",
       "      <td>11.0</td>\n",
       "      <td>...</td>\n",
       "      <td>0.694824</td>\n",
       "      <td>5.898438</td>\n",
       "      <td>0.706055</td>\n",
       "      <td>6</td>\n",
       "      <td>6</td>\n",
       "      <td>9</td>\n",
       "      <td>0.666504</td>\n",
       "      <td>1.0</td>\n",
       "      <td>0.666504</td>\n",
       "      <td>1.0</td>\n",
       "    </tr>\n",
       "  </tbody>\n",
       "</table>\n",
       "<p>5 rows × 70 columns</p>\n",
       "</div>"
      ],
      "text/plain": [
       "   total_product_orders_by_user  total_product_reorders_by_user  \\\n",
       "0                          10.0                             9.0   \n",
       "1                           9.0                             8.0   \n",
       "2                           1.0                             0.0   \n",
       "3                          10.0                             9.0   \n",
       "4                           3.0                             2.0   \n",
       "\n",
       "   user_product_reorder_percentage  avg_add_to_cart_by_user  \\\n",
       "0                         0.899902                 1.400391   \n",
       "1                         0.888672                 3.333984   \n",
       "2                         0.000000                 5.000000   \n",
       "3                         0.899902                 3.300781   \n",
       "4                         0.666504                 6.332031   \n",
       "\n",
       "   avg_days_since_last_bought  last_ordered_in  is_reorder_3  is_reorder_2  \\\n",
       "0                   17.593750             10.0           1.0           1.0   \n",
       "1                   19.562500             10.0           1.0           1.0   \n",
       "2                   28.000000              5.0           0.0           0.0   \n",
       "3                   17.593750             10.0           1.0           1.0   \n",
       "4                   21.671875             10.0           1.0           0.0   \n",
       "\n",
       "   is_reorder_1  order_number  ...  reorder_propotion_by_user  \\\n",
       "0           1.0          11.0  ...                   0.694824   \n",
       "1           1.0          11.0  ...                   0.694824   \n",
       "2           0.0          11.0  ...                   0.694824   \n",
       "3           1.0          11.0  ...                   0.694824   \n",
       "4           0.0          11.0  ...                   0.694824   \n",
       "\n",
       "   average_order_size  reorder_in_order  orders_3  orders_2  orders_1  \\\n",
       "0            5.898438          0.706055         6         6         9   \n",
       "1            5.898438          0.706055         6         6         9   \n",
       "2            5.898438          0.706055         6         6         9   \n",
       "3            5.898438          0.706055         6         6         9   \n",
       "4            5.898438          0.706055         6         6         9   \n",
       "\n",
       "   reorder_3  reorder_2  reorder_1  order_diff  \n",
       "0   0.666504        1.0   0.666504         1.0  \n",
       "1   0.666504        1.0   0.666504         1.0  \n",
       "2   0.666504        1.0   0.666504         6.0  \n",
       "3   0.666504        1.0   0.666504         1.0  \n",
       "4   0.666504        1.0   0.666504         1.0  \n",
       "\n",
       "[5 rows x 70 columns]"
      ]
     },
     "execution_count": 6,
     "metadata": {},
     "output_type": "execute_result"
    }
   ],
   "source": [
    "df.head()"
   ]
  },
  {
   "cell_type": "code",
   "execution_count": 7,
   "metadata": {},
   "outputs": [
    {
     "data": {
      "text/plain": [
       "(8474661, 70)"
      ]
     },
     "execution_count": 7,
     "metadata": {},
     "output_type": "execute_result"
    }
   ],
   "source": [
    "df.shape"
   ]
  },
  {
   "cell_type": "code",
   "execution_count": 8,
   "metadata": {},
   "outputs": [],
   "source": [
    "label = 'reordered'\n",
    "x_cols = df.columns.drop('reordered')"
   ]
  },
  {
   "cell_type": "code",
   "execution_count": 9,
   "metadata": {},
   "outputs": [],
   "source": [
    "X = df[x_cols]\n",
    "y = df[label]"
   ]
  },
  {
   "cell_type": "code",
   "execution_count": 10,
   "metadata": {},
   "outputs": [
    {
     "name": "stdout",
     "output_type": "stream",
     "text": [
      "(6355995, 69) (6355995,)\n",
      "(2118666, 69) (2118666,)\n"
     ]
    }
   ],
   "source": [
    "X_train, X_test, y_train, y_test = train_test_split(X, y, stratify = y, test_size = 0.25)\n",
    "\n",
    "print(X_train.shape, y_train.shape)\n",
    "print(X_test.shape, y_test.shape)"
   ]
  },
  {
   "cell_type": "code",
   "execution_count": 11,
   "metadata": {},
   "outputs": [
    {
     "data": {
      "text/plain": [
       "0.0    5734377\n",
       "1.0     621618\n",
       "Name: reordered, dtype: int64"
      ]
     },
     "execution_count": 11,
     "metadata": {},
     "output_type": "execute_result"
    }
   ],
   "source": [
    "y_train.value_counts()"
   ]
  },
  {
   "cell_type": "code",
   "execution_count": 12,
   "metadata": {},
   "outputs": [
    {
     "data": {
      "text/plain": [
       "10.0"
      ]
     },
     "execution_count": 12,
     "metadata": {},
     "output_type": "execute_result"
    }
   ],
   "source": [
    "np.ceil(y_train.value_counts()[0]/y_train.value_counts()[1])"
   ]
  },
  {
   "cell_type": "code",
   "execution_count": 13,
   "metadata": {},
   "outputs": [
    {
     "data": {
      "text/plain": [
       "0.0    1911460\n",
       "1.0     207206\n",
       "Name: reordered, dtype: int64"
      ]
     },
     "execution_count": 13,
     "metadata": {},
     "output_type": "execute_result"
    }
   ],
   "source": [
    "y_test.value_counts()"
   ]
  },
  {
   "cell_type": "code",
   "execution_count": 14,
   "metadata": {},
   "outputs": [
    {
     "data": {
      "text/plain": [
       "68"
      ]
     },
     "execution_count": 14,
     "metadata": {},
     "output_type": "execute_result"
    }
   ],
   "source": [
    "# freeing memory\n",
    "del df, X, y\n",
    "gc.collect()"
   ]
  },
  {
   "cell_type": "markdown",
   "metadata": {},
   "source": [
    "### Neural Network model"
   ]
  },
  {
   "cell_type": "code",
   "execution_count": 15,
   "metadata": {},
   "outputs": [],
   "source": [
    "import keras\n",
    "from keras.models import Sequential\n",
    "from keras.layers import Dense, Dropout\n",
    "from keras.regularizers import l2\n",
    "from keras.callbacks import History\n",
    "from keras import backend as K\n",
    "from sklearn.preprocessing import MinMaxScaler"
   ]
  },
  {
   "cell_type": "code",
   "execution_count": 16,
   "metadata": {},
   "outputs": [],
   "source": [
    "sc = MinMaxScaler()\n",
    "X_train_sc = sc.fit_transform(X_train)\n",
    "X_test_sc = sc.transform(X_test)"
   ]
  },
  {
   "cell_type": "code",
   "execution_count": 17,
   "metadata": {},
   "outputs": [
    {
     "data": {
      "text/plain": [
       "69"
      ]
     },
     "execution_count": 17,
     "metadata": {},
     "output_type": "execute_result"
    }
   ],
   "source": [
    "input_dim =  X_train_sc.shape[1]\n",
    "input_dim"
   ]
  },
  {
   "cell_type": "code",
   "execution_count": 18,
   "metadata": {},
   "outputs": [],
   "source": [
    "def recall_m(y_true, y_pred):\n",
    "    true_positives = K.sum(K.round(K.clip(y_true * y_pred, 0, 1)))\n",
    "    possible_positives = K.sum(K.round(K.clip(y_true, 0, 1)))\n",
    "    recall = true_positives / (possible_positives + K.epsilon())\n",
    "    return recall\n",
    "\n",
    "def precision_m(y_true, y_pred):\n",
    "    true_positives = K.sum(K.round(K.clip(y_true * y_pred, 0, 1)))\n",
    "    predicted_positives = K.sum(K.round(K.clip(y_pred, 0, 1)))\n",
    "    precision = true_positives / (predicted_positives + K.epsilon())\n",
    "    return precision\n",
    "\n",
    "def f1_m(y_true, y_pred):\n",
    "    precision = precision_m(y_true, y_pred)\n",
    "    recall = recall_m(y_true, y_pred)\n",
    "    return 2*((precision*recall)/(precision+recall+K.epsilon()))"
   ]
  },
  {
   "cell_type": "code",
   "execution_count": 19,
   "metadata": {},
   "outputs": [
    {
     "name": "stdout",
     "output_type": "stream",
     "text": [
      "WARNING:tensorflow:From C:\\Users\\archd\\Anaconda3\\lib\\site-packages\\tensorflow\\python\\framework\\op_def_library.py:263: colocate_with (from tensorflow.python.framework.ops) is deprecated and will be removed in a future version.\n",
      "Instructions for updating:\n",
      "Colocations handled automatically by placer.\n",
      "_________________________________________________________________\n",
      "Layer (type)                 Output Shape              Param #   \n",
      "=================================================================\n",
      "dense_1 (Dense)              (None, 64)                4480      \n",
      "_________________________________________________________________\n",
      "dense_2 (Dense)              (None, 15)                975       \n",
      "_________________________________________________________________\n",
      "dense_3 (Dense)              (None, 4)                 64        \n",
      "_________________________________________________________________\n",
      "dense_4 (Dense)              (None, 1)                 5         \n",
      "=================================================================\n",
      "Total params: 5,524\n",
      "Trainable params: 5,524\n",
      "Non-trainable params: 0\n",
      "_________________________________________________________________\n"
     ]
    }
   ],
   "source": [
    "history = History()\n",
    "\n",
    "classifier = Sequential()\n",
    "\n",
    "classifier.add(Dense(units = 64, activation = 'relu', input_dim = input_dim))\n",
    "classifier.add(Dense(units = 15, activation = 'relu'))\n",
    "classifier.add(Dense(units = 4, activation = 'relu'))\n",
    "classifier.add(Dense(units = 1, activation ='sigmoid'))\n",
    "\n",
    "classifier.compile(optimizer = \"adam\", loss = 'binary_crossentropy', metrics = ['accuracy', f1_m, precision_m, recall_m])\n",
    "\n",
    "classifier.summary()"
   ]
  },
  {
   "cell_type": "code",
   "execution_count": 20,
   "metadata": {
    "scrolled": false
   },
   "outputs": [
    {
     "name": "stdout",
     "output_type": "stream",
     "text": [
      "WARNING:tensorflow:From C:\\Users\\archd\\Anaconda3\\lib\\site-packages\\tensorflow\\python\\ops\\math_ops.py:3066: to_int32 (from tensorflow.python.ops.math_ops) is deprecated and will be removed in a future version.\n",
      "Instructions for updating:\n",
      "Use tf.cast instead.\n",
      "Train on 5402595 samples, validate on 953400 samples\n",
      "Epoch 1/50\n",
      "5402595/5402595 [==============================] - 206s 38us/step - loss: 0.9766 - acc: 0.7298 - f1_m: 0.3567 - precision_m: 0.2346 - recall_m: 0.7627 - val_loss: 0.9573 - val_acc: 0.7362 - val_f1_m: 0.3620 - val_precision_m: 0.2379 - val_recall_m: 0.7662\n",
      "Epoch 2/50\n",
      "5402595/5402595 [==============================] - 130s 24us/step - loss: 0.9546 - acc: 0.7325 - f1_m: 0.3602 - precision_m: 0.2364 - recall_m: 0.7713 - val_loss: 0.9559 - val_acc: 0.7298 - val_f1_m: 0.3592 - val_precision_m: 0.2346 - val_recall_m: 0.7754c: 0.7319 - f1_m: 0.3601 - precision_m: 0.2362 - recall_m: 0.77 - ETA: 12s - loss: 0.9552 - acc: 0.7319 - - ETA: 11s - loss: 0.9553 - acc: 0.7319 - f1_m: 0.3600 - precision_m: 0.2361  - ET - ETA: 7s - loss: 0.9549 - acc: 0.\n",
      "Epoch 3/50\n",
      "5402595/5402595 [==============================] - 136s 25us/step - loss: 0.9520 - acc: 0.7346 - f1_m: 0.3616 - precision_m: 0.2376 - recall_m: 0.7704 - val_loss: 0.9559 - val_acc: 0.7072 - val_f1_m: 0.3484 - val_precision_m: 0.2234 - val_recall_m: 0.8010\n",
      "Epoch 4/50\n",
      "5402595/5402595 [==============================] - 126s 23us/step - loss: 0.9504 - acc: 0.7356 - f1_m: 0.3624 - precision_m: 0.2382 - recall_m: 0.7707 - val_loss: 0.9533 - val_acc: 0.7211 - val_f1_m: 0.3551 - val_precision_m: 0.2302 - val_recall_m: 0.7860\n",
      "Epoch 5/50\n",
      "5402595/5402595 [==============================] - 134s 25us/step - loss: 0.9493 - acc: 0.7371 - f1_m: 0.3634 - precision_m: 0.2390 - recall_m: 0.7696 - val_loss: 0.9531 - val_acc: 0.7566 - val_f1_m: 0.3744 - val_precision_m: 0.2509 - val_recall_m: 0.7461 0.7370 - f1_m: 0.3631 - precisio - ETA: 9s - loss:\n",
      "Epoch 6/50\n",
      "5402595/5402595 [==============================] - 111s 21us/step - loss: 0.9483 - acc: 0.7368 - f1_m: 0.3636 - precision_m: 0.2391 - recall_m: 0.7713 - val_loss: 0.9505 - val_acc: 0.7290 - val_f1_m: 0.3598 - val_precision_m: 0.2347 - val_recall_m: 0.7796\n",
      "Epoch 7/50\n",
      "5402595/5402595 [==============================] - 130s 24us/step - loss: 0.9462 - acc: 0.7380 - f1_m: 0.3646 - precision_m: 0.2398 - recall_m: 0.7715 - val_loss: 0.9511 - val_acc: 0.7689 - val_f1_m: 0.3825 - val_precision_m: 0.2598 - val_recall_m: 0.7335\n",
      "Epoch 8/50\n",
      "5402595/5402595 [==============================] - 125s 23us/step - loss: 0.9447 - acc: 0.7390 - f1_m: 0.3653 - precision_m: 0.2406 - recall_m: 0.7710 - val_loss: 0.9495 - val_acc: 0.7375 - val_f1_m: 0.3646 - val_precision_m: 0.2397 - val_recall_m: 0.7713 - f1_m:\n",
      "Epoch 9/50\n",
      "5402595/5402595 [==============================] - 115s 21us/step - loss: 0.9438 - acc: 0.7399 - f1_m: 0.3660 - precision_m: 0.2411 - recall_m: 0.7705 - val_loss: 0.9478 - val_acc: 0.7374 - val_f1_m: 0.3647 - val_precision_m: 0.2397 - val_recall_m: 0.7720\n",
      "Epoch 10/50\n",
      "5402595/5402595 [==============================] - 130s 24us/step - loss: 0.9431 - acc: 0.7407 - f1_m: 0.3667 - precision_m: 0.2417 - recall_m: 0.7704 - val_loss: 0.9504 - val_acc: 0.7696 - val_f1_m: 0.3834 - val_precision_m: 0.2606 - val_recall_m: 0.7339\n",
      "Epoch 11/50\n",
      "5402595/5402595 [==============================] - 135s 25us/step - loss: 0.9425 - acc: 0.7413 - f1_m: 0.3671 - precision_m: 0.2421 - recall_m: 0.7700 - val_loss: 0.9460 - val_acc: 0.7326 - val_f1_m: 0.3626 - val_precision_m: 0.2372 - val_recall_m: 0.7786s: 0.9425 - acc: 0.7413 - f1_m: 0.3670 - p - ETA: 2s - loss: 0.9424 - acc: 0.7414 - f1_m: 0.367\n",
      "Epoch 12/50\n",
      "5402595/5402595 [==============================] - 127s 23us/step - loss: 0.9421 - acc: 0.7413 - f1_m: 0.3671 - precision_m: 0.2421 - recall_m: 0.7702 - val_loss: 0.9482 - val_acc: 0.7092 - val_f1_m: 0.3501 - val_precision_m: 0.2248 - val_recall_m: 0.8018\n",
      "Epoch 13/50\n",
      "5402595/5402595 [==============================] - 141s 26us/step - loss: 0.9418 - acc: 0.7422 - f1_m: 0.3676 - precision_m: 0.2426 - recall_m: 0.7691 - val_loss: 0.9472 - val_acc: 0.7250 - val_f1_m: 0.3584 - val_precision_m: 0.2329 - val_recall_m: 0.7866\n",
      "Epoch 14/50\n",
      "5402595/5402595 [==============================] - 127s 23us/step - loss: 0.9415 - acc: 0.7424 - f1_m: 0.3678 - precision_m: 0.2428 - recall_m: 0.7693 - val_loss: 0.9455 - val_acc: 0.7516 - val_f1_m: 0.3733 - val_precision_m: 0.2487 - val_recall_m: 0.7578\n",
      "Epoch 15/50\n",
      "5402595/5402595 [==============================] - 135s 25us/step - loss: 0.9412 - acc: 0.7421 - f1_m: 0.3676 - precision_m: 0.2426 - recall_m: 0.7696 - val_loss: 0.9449 - val_acc: 0.7344 - val_f1_m: 0.3636 - val_precision_m: 0.2382 - val_recall_m: 0.7769\n",
      "Epoch 16/50\n",
      "5402595/5402595 [==============================] - 114s 21us/step - loss: 0.9408 - acc: 0.7421 - f1_m: 0.3678 - precision_m: 0.2427 - recall_m: 0.7703 - val_loss: 0.9448 - val_acc: 0.7449 - val_f1_m: 0.3694 - val_precision_m: 0.2444 - val_recall_m: 0.7652\n",
      "Epoch 17/50\n",
      "5402595/5402595 [==============================] - 137s 25us/step - loss: 0.9407 - acc: 0.7423 - f1_m: 0.3679 - precision_m: 0.2428 - recall_m: 0.7702 - val_loss: 0.9469 - val_acc: 0.7576 - val_f1_m: 0.3767 - val_precision_m: 0.2525 - val_recall_m: 0.7503\n",
      "Epoch 18/50\n",
      "5402595/5402595 [==============================] - 137s 25us/step - loss: 0.9404 - acc: 0.7425 - f1_m: 0.3679 - precision_m: 0.2428 - recall_m: 0.7697 - val_loss: 0.9443 - val_acc: 0.7450 - val_f1_m: 0.3696 - val_precision_m: 0.2446 - val_recall_m: 0.7654\n",
      "Epoch 19/50\n",
      "5402595/5402595 [==============================] - 128s 24us/step - loss: 0.9402 - acc: 0.7425 - f1_m: 0.3681 - precision_m: 0.2429 - recall_m: 0.7699 - val_loss: 0.9449 - val_acc: 0.7370 - val_f1_m: 0.3648 - val_precision_m: 0.2396 - val_recall_m: 0.7731\n",
      "Epoch 20/50\n",
      "5402595/5402595 [==============================] - 130s 24us/step - loss: 0.9402 - acc: 0.7426 - f1_m: 0.3681 - precision_m: 0.2430 - recall_m: 0.7697 - val_loss: 0.9440 - val_acc: 0.7404 - val_f1_m: 0.3670 - val_precision_m: 0.2418 - val_recall_m: 0.7706\n",
      "Epoch 21/50\n",
      "5402595/5402595 [==============================] - 131s 24us/step - loss: 0.9400 - acc: 0.7426 - f1_m: 0.3682 - precision_m: 0.2430 - recall_m: 0.7702 - val_loss: 0.9442 - val_acc: 0.7438 - val_f1_m: 0.3687 - val_precision_m: 0.2437 - val_recall_m: 0.7663\n",
      "Epoch 22/50\n",
      "5402595/5402595 [==============================] - 139s 26us/step - loss: 0.9399 - acc: 0.7424 - f1_m: 0.3681 - precision_m: 0.2429 - recall_m: 0.7703 - val_loss: 0.9454 - val_acc: 0.7523 - val_f1_m: 0.3738 - val_precision_m: 0.2491 - val_recall_m: 0.7569 0.2430 - recall_m: 0. - ETA: 0s - loss: 0.9400 - acc: 0.7424 - f1_m: 0.3681 - precision_m: 0.2430 -\n",
      "Epoch 23/50\n",
      "5402595/5402595 [==============================] - 126s 23us/step - loss: 0.9398 - acc: 0.7428 - f1_m: 0.3683 - precision_m: 0.2431 - recall_m: 0.7699 - val_loss: 0.9440 - val_acc: 0.7418 - val_f1_m: 0.3680 - val_precision_m: 0.2428 - val_recall_m: 0.7698\n",
      "Epoch 24/50\n",
      "5402595/5402595 [==============================] - 134s 25us/step - loss: 0.9396 - acc: 0.7425 - f1_m: 0.3681 - precision_m: 0.2429 - recall_m: 0.7704 - val_loss: 0.9450 - val_acc: 0.7236 - val_f1_m: 0.3580 - val_precision_m: 0.2324 - val_recall_m: 0.7890.9393 \n",
      "Epoch 25/50\n",
      "5402595/5402595 [==============================] - 131s 24us/step - loss: 0.9395 - acc: 0.7427 - f1_m: 0.3682 - precision_m: 0.2430 - recall_m: 0.7702 - val_loss: 0.9446 - val_acc: 0.7467 - val_f1_m: 0.3706 - val_precision_m: 0.2456 - val_recall_m: 0.7637\n",
      "Epoch 26/50\n",
      "5402595/5402595 [==============================] - 133s 25us/step - loss: 0.9395 - acc: 0.7427 - f1_m: 0.3682 - precision_m: 0.2430 - recall_m: 0.7700 - val_loss: 0.9453 - val_acc: 0.7344 - val_f1_m: 0.3639 - val_precision_m: 0.2384 - val_recall_m: 0.7778\n",
      "Epoch 27/50\n",
      "5402595/5402595 [==============================] - 114s 21us/step - loss: 0.9394 - acc: 0.7429 - f1_m: 0.3683 - precision_m: 0.2432 - recall_m: 0.7699 - val_loss: 0.9438 - val_acc: 0.7450 - val_f1_m: 0.3697 - val_precision_m: 0.2446 - val_recall_m: 0.7657\n",
      "Epoch 28/50\n"
     ]
    },
    {
     "name": "stdout",
     "output_type": "stream",
     "text": [
      "5402595/5402595 [==============================] - 118s 22us/step - loss: 0.9392 - acc: 0.7431 - f1_m: 0.3685 - precision_m: 0.2433 - recall_m: 0.7700 - val_loss: 0.9485 - val_acc: 0.7700 - val_f1_m: 0.3841 - val_precision_m: 0.2612 - val_recall_m: 0.7346\n",
      "Epoch 29/50\n",
      "5402595/5402595 [==============================] - 128s 24us/step - loss: 0.9390 - acc: 0.7430 - f1_m: 0.3685 - precision_m: 0.2432 - recall_m: 0.7702 - val_loss: 0.9458 - val_acc: 0.7216 - val_f1_m: 0.3569 - val_precision_m: 0.2313 - val_recall_m: 0.7909\n",
      "Epoch 30/50\n",
      "5402595/5402595 [==============================] - 129s 24us/step - loss: 0.9391 - acc: 0.7431 - f1_m: 0.3686 - precision_m: 0.2434 - recall_m: 0.7700 - val_loss: 0.9454 - val_acc: 0.7274 - val_f1_m: 0.3597 - val_precision_m: 0.2342 - val_recall_m: 0.7838- precision_m: 0.2433 - recall_m: - ETA: 4s - lo\n",
      "Epoch 31/50\n",
      "5402595/5402595 [==============================] - 118s 22us/step - loss: 0.9389 - acc: 0.7429 - f1_m: 0.3683 - precision_m: 0.2431 - recall_m: 0.7699 - val_loss: 0.9450 - val_acc: 0.7427 - val_f1_m: 0.3683 - val_precision_m: 0.2432 - val_recall_m: 0.7680\n",
      "Epoch 32/50\n",
      "5402595/5402595 [==============================] - 115s 21us/step - loss: 0.9387 - acc: 0.7430 - f1_m: 0.3685 - precision_m: 0.2432 - recall_m: 0.7701 - val_loss: 0.9466 - val_acc: 0.7655 - val_f1_m: 0.3812 - val_precision_m: 0.2578 - val_recall_m: 0.7397\n",
      "Epoch 33/50\n",
      "5402595/5402595 [==============================] - 118s 22us/step - loss: 0.9387 - acc: 0.7433 - f1_m: 0.3688 - precision_m: 0.2435 - recall_m: 0.7702 - val_loss: 0.9444 - val_acc: 0.7548 - val_f1_m: 0.3753 - val_precision_m: 0.2508 - val_recall_m: 0.7543\n",
      "Epoch 34/50\n",
      "5402595/5402595 [==============================] - 132s 24us/step - loss: 0.9387 - acc: 0.7434 - f1_m: 0.3689 - precision_m: 0.2436 - recall_m: 0.7703 - val_loss: 0.9440 - val_acc: 0.7335 - val_f1_m: 0.3634 - val_precision_m: 0.2379 - val_recall_m: 0.7790\n",
      "Epoch 35/50\n",
      "5402595/5402595 [==============================] - 135s 25us/step - loss: 0.9385 - acc: 0.7430 - f1_m: 0.3686 - precision_m: 0.2433 - recall_m: 0.7705 - val_loss: 0.9443 - val_acc: 0.7499 - val_f1_m: 0.3725 - val_precision_m: 0.2477 - val_recall_m: 0.7601\n",
      "Epoch 36/50\n",
      "5402595/5402595 [==============================] - 108s 20us/step - loss: 0.9385 - acc: 0.7430 - f1_m: 0.3685 - precision_m: 0.2433 - recall_m: 0.7700 - val_loss: 0.9463 - val_acc: 0.7191 - val_f1_m: 0.3559 - val_precision_m: 0.2301 - val_recall_m: 0.7946m: 0.2433 - recal - ETA: 1s - loss: 0.9384 - acc: 0.7431 - f1_m: 0.3\n",
      "Epoch 37/50\n",
      "5402595/5402595 [==============================] - 141s 26us/step - loss: 0.9384 - acc: 0.7432 - f1_m: 0.3688 - precision_m: 0.2434 - recall_m: 0.7705 - val_loss: 0.9449 - val_acc: 0.7253 - val_f1_m: 0.3591 - val_precision_m: 0.2334 - val_recall_m: 0.7876\n",
      "Wall time: 1h 21min 4s\n"
     ]
    },
    {
     "data": {
      "text/plain": [
       "<keras.callbacks.History at 0x133061542b0>"
      ]
     },
     "execution_count": 20,
     "metadata": {},
     "output_type": "execute_result"
    }
   ],
   "source": [
    "%%time\n",
    "# fit the model\n",
    "classifier.fit(X_train_sc, y_train, epochs=50, batch_size=512, validation_split=0.15, verbose=1,class_weight= {0:1, 1:10},\n",
    "          callbacks = [history, keras.callbacks.EarlyStopping(monitor='val_loss',\n",
    "                                                              min_delta=0, patience=10, verbose=0, mode='auto')])"
   ]
  },
  {
   "cell_type": "code",
   "execution_count": 59,
   "metadata": {},
   "outputs": [
    {
     "name": "stdout",
     "output_type": "stream",
     "text": [
      "6355995/6355995 [==============================] - 252s 40us/step\n",
      "loss:  0.48910188602026355 and Accuracy:  0.7590791056318541\n"
     ]
    }
   ],
   "source": [
    "eval_model=classifier.evaluate(X_train_sc, y_train)\n",
    "print('loss: ', eval_model[0], 'and Accuracy: ', eval_model[1])"
   ]
  },
  {
   "cell_type": "code",
   "execution_count": 21,
   "metadata": {},
   "outputs": [
    {
     "data": {
      "text/plain": [
       "Text(0.5, 1.0, 'Loss')"
      ]
     },
     "execution_count": 21,
     "metadata": {},
     "output_type": "execute_result"
    },
    {
     "data": {
      "image/png": "[encoded data removed]",
      "text/plain": [
       "<Figure size 720x288 with 2 Axes>"
      ]
     },
     "metadata": {
      "needs_background": "light"
     },
     "output_type": "display_data"
    }
   ],
   "source": [
    "fig, ax = plt.subplots(nrows = 1, ncols = 2, figsize = (10, 4))\n",
    "\n",
    "# Accuracy\n",
    "ax[0].plot(history.history['acc'])\n",
    "ax[0].plot(history.history['val_acc'])\n",
    "ax[0].set_ylabel('Accuracy')\n",
    "ax[0].set_xlabel('# Epoch')\n",
    "ax[0].legend(['train', 'test'], loc='upper left')\n",
    "ax[0].set_title('Accuracy')\n",
    "\n",
    "# Loss\n",
    "ax[1].plot(history.history['loss'])\n",
    "ax[1].plot(history.history['val_loss'])\n",
    "ax[1].set_ylabel('Loss')\n",
    "ax[1].set_xlabel('# Epoch')\n",
    "ax[1].legend(['train', 'test'], loc='upper left')\n",
    "ax[1].set_title('Loss')"
   ]
  },
  {
   "cell_type": "code",
   "execution_count": 25,
   "metadata": {},
   "outputs": [
    {
     "name": "stdout",
     "output_type": "stream",
     "text": [
      "\n",
      " Classification report : \n",
      "               precision    recall  f1-score   support\n",
      "\n",
      "         0.0       0.97      0.72      0.83   1911460\n",
      "         1.0       0.23      0.79      0.36    207206\n",
      "\n",
      "    accuracy                           0.73   2118666\n",
      "   macro avg       0.60      0.75      0.59   2118666\n",
      "weighted avg       0.90      0.73      0.78   2118666\n",
      "\n",
      "Accuracy   Score :  0.7251921728106271\n",
      "F1 Score:  0.3592928105783494\n",
      "Area under curve :  0.8344086677839623 \n",
      "\n"
     ]
    },
    {
     "data": {
      "image/png": "[encoded data removed]",
      "text/plain": [
       "<Figure size 864x864 with 3 Axes>"
      ]
     },
     "metadata": {
      "needs_background": "light"
     },
     "output_type": "display_data"
    }
   ],
   "source": [
    "probabilities = classifier.predict_proba(X_test_sc)\n",
    "predictions = classifier.predict_classes(X_test_sc)\n",
    "\n",
    "print (\"\\n Classification report : \\n\",classification_report(y_test, predictions))\n",
    "print (\"Accuracy   Score : \",accuracy_score(y_test, predictions))\n",
    "\n",
    "#confusion matrix\n",
    "conf_matrix = confusion_matrix(y_test,predictions)\n",
    "plt.figure(figsize=(12,12))\n",
    "plt.subplot(221)\n",
    "sns.heatmap(conf_matrix, fmt = \"d\",annot=True, cmap='Blues')\n",
    "b, t = plt.ylim()\n",
    "plt.ylim(b + 0.5, t - 0.5)\n",
    "plt.title('Confuion Matrix')\n",
    "plt.ylabel('True Values')\n",
    "plt.xlabel('Predicted Values')\n",
    "\n",
    "#f1-score\n",
    "f1 = f1_score(y_test, predictions)\n",
    "print(\"F1 Score: \", f1)\n",
    "\n",
    "#roc_auc_score\n",
    "model_roc_auc = roc_auc_score(y_test,probabilities) \n",
    "print (\"Area under curve : \",model_roc_auc,\"\\n\")\n",
    "fpr,tpr,thresholds = roc_curve(y_test,probabilities)\n",
    "gmeans = np.sqrt(tpr * (1-fpr))\n",
    "ix = np.argmax(gmeans)\n",
    "threshold = np.round(thresholds[ix],3)\n",
    "\n",
    "plt.subplot(222)\n",
    "plt.plot(fpr, tpr, color='darkorange', lw=1, label = \"Auc : %.3f\" %model_roc_auc)\n",
    "plt.plot([0, 1], [0, 1], color='navy', lw=2, linestyle='--')\n",
    "plt.scatter(fpr[ix], tpr[ix], marker='o', color='black', label='Best Threshold:' + str(threshold))\n",
    "plt.xlim([0.0, 1.0])\n",
    "plt.ylim([0.0, 1.05])\n",
    "plt.xlabel('False Positive Rate')\n",
    "plt.ylabel('True Positive Rate')\n",
    "plt.title('Receiver operating characteristic')\n",
    "plt.legend(loc=\"lower right\")\n",
    "\n",
    "plt.show()"
   ]
  },
  {
   "cell_type": "code",
   "execution_count": null,
   "metadata": {},
   "outputs": [],
   "source": []
  }
 ],
 "metadata": {
  "kernelspec": {
   "display_name": "Python 3",
   "language": "python",
   "name": "python3"
  },
  "language_info": {
   "codemirror_mode": {
    "name": "ipython",
    "version": 3
   },
   "file_extension": ".py",
   "mimetype": "text/x-python",
   "name": "python",
   "nbconvert_exporter": "python",
   "pygments_lexer": "ipython3",
   "version": "3.7.3"
  }
 },
 "nbformat": 4,
 "nbformat_minor": 2
}